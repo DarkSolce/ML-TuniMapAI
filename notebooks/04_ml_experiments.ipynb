{
 "cells": [
  {
   "cell_type": "code",
   "execution_count": 8,
   "id": "f0ee3a6f",
   "metadata": {},
   "outputs": [
    {
     "name": "stdout",
     "output_type": "stream",
     "text": [
      "=== EXPÉRIMENTATIONS ML - PRÉDICTION TEMPS DE TRAJET - ML-TuniMapAi ===\n",
      "\n"
     ]
    }
   ],
   "source": [
    "# Notebook 4: Expérimentations ML - Prédiction des temps de trajet\n",
    "\n",
    "import pandas as pd\n",
    "import numpy as np\n",
    "import pickle\n",
    "from sklearn.model_selection import train_test_split, GridSearchCV, cross_val_score\n",
    "from sklearn.preprocessing import StandardScaler, LabelEncoder\n",
    "from sklearn.ensemble import RandomForestRegressor, GradientBoostingRegressor\n",
    "from sklearn.linear_model import LinearRegression, Ridge\n",
    "from sklearn.svm import SVR\n",
    "from sklearn.metrics import mean_absolute_error, mean_squared_error, r2_score\n",
    "import xgboost as xgb\n",
    "import matplotlib.pyplot as plt\n",
    "import seaborn as sns\n",
    "from tqdm import tqdm\n",
    "import warnings\n",
    "warnings.filterwarnings('ignore')\n",
    "\n",
    "print(\"=== EXPÉRIMENTATIONS ML - PRÉDICTION TEMPS DE TRAJET - ML-TuniMapAi ===\")\n",
    "print()"
   ]
  },
  {
   "cell_type": "code",
   "execution_count": 9,
   "id": "d017fa6b",
   "metadata": {},
   "outputs": [
    {
     "name": "stdout",
     "output_type": "stream",
     "text": [
      "1. CHARGEMENT DES DONNÉES\n",
      "------------------------------------------------------------\n",
      "Données chargées:\n",
      "- Points géographiques: 4788\n",
      "- Features ML: 25\n",
      "- Modes de transport: 14\n",
      "\n"
     ]
    }
   ],
   "source": [
    "# 1. CHARGEMENT DES DONNÉES\n",
    "print(\"1. CHARGEMENT DES DONNÉES\")\n",
    "print(\"-\" * 60)\n",
    "\n",
    "# Chargement des données préprocessées\n",
    "delegations_df = pd.read_csv('../data/processed/tunisia_delegations_processed.csv')\n",
    "ml_features = pd.read_csv('../data/processed/tunisia_ml_features.csv')\n",
    "\n",
    "# Chargement des matrices de temps de trajet\n",
    "with open('../data/processed/travel_matrices.pkl', 'rb') as f:\n",
    "    matrices_data = pickle.load(f)\n",
    "\n",
    "travel_times = matrices_data['travel_times']\n",
    "car_travel_times = matrices_data['car_travel_times']\n",
    "distance_matrix = matrices_data['distance_matrix']\n",
    "\n",
    "print(f\"Données chargées:\")\n",
    "print(f\"- Points géographiques: {len(delegations_df)}\")\n",
    "print(f\"- Features ML: {len(ml_features.columns)}\")\n",
    "print(f\"- Modes de transport: {len(travel_times) + len(car_travel_times)}\")\n",
    "print()"
   ]
  },
  {
   "cell_type": "code",
   "execution_count": 35,
   "id": "f29b2791",
   "metadata": {},
   "outputs": [],
   "source": [
    "import os\n",
    "import csv\n",
    "from tqdm import tqdm\n",
    "import numpy as np\n",
    "\n",
    "def create_ml_dataset_batch(\n",
    "    delegations_df, \n",
    "    distance_matrix, \n",
    "    travel_times, \n",
    "    car_travel_times, \n",
    "    output_csv=\"../data/processed/ml_dataset.csv\",\n",
    "    start_i=0,       # Reprendre à partir d'une ligne i\n",
    "    batch_size=100   # Nombre d'origines à traiter par batch\n",
    "):\n",
    "    \"\"\"\n",
    "    Crée le dataset ML en batch pour éviter MemoryError.\n",
    "    Permet de reprendre depuis un index start_i.\n",
    "    \"\"\"\n",
    "    n_points = len(delegations_df)\n",
    "    \n",
    "    # Colonnes\n",
    "    origin_cols = [\n",
    "        'origin_lat','origin_lon','origin_accessibility','origin_tourism','origin_landscape',\n",
    "        'origin_cultural','origin_cluster','origin_zone_type','origin_governorate',\n",
    "        'origin_has_bus','origin_has_metro','origin_has_train','origin_has_taxi'\n",
    "    ]\n",
    "    dest_cols = [\n",
    "        'dest_lat','dest_lon','dest_accessibility','dest_tourism','dest_landscape',\n",
    "        'dest_cultural','dest_cluster','dest_zone_type','dest_governorate',\n",
    "        'dest_has_bus','dest_has_metro','dest_has_train','dest_has_taxi'\n",
    "    ]\n",
    "    trip_cols = ['distance_km','same_governorate','same_cluster','tourism_diff','accessibility_diff']\n",
    "    \n",
    "    time_cols = [f\"time_{mode}\" for mode in travel_times.keys()] + [f\"time_{car}\" for car in car_travel_times.keys()]\n",
    "    \n",
    "    all_columns = origin_cols + dest_cols + trip_cols + time_cols\n",
    "\n",
    "    # Ouvrir le CSV en mode append\n",
    "    write_header = not os.path.exists(output_csv) or start_i == 0\n",
    "    f = open(output_csv, \"a\", newline=\"\", encoding=\"utf-8\")\n",
    "    writer = csv.DictWriter(f, fieldnames=all_columns)\n",
    "    if write_header:\n",
    "        writer.writeheader()\n",
    "    \n",
    "    print(f\"Création du dataset ML en batch à partir de i={start_i}...\")\n",
    "\n",
    "    for i in tqdm(range(start_i, n_points)):\n",
    "        origin = delegations_df.iloc[i]\n",
    "        origin_features = {\n",
    "            'origin_lat': origin['Latitude'],\n",
    "            'origin_lon': origin['Longitude'],\n",
    "            'origin_accessibility': origin['accessibility_score'],\n",
    "            'origin_tourism': origin['tourism_score'],\n",
    "            'origin_landscape': origin['landscape_beauty_score'],\n",
    "            'origin_cultural': origin['cultural_interest_score'],\n",
    "            'origin_cluster': origin['cluster_id'],\n",
    "            'origin_zone_type': origin['zone_type_encoded'],\n",
    "            'origin_governorate': origin['Governorate_encoded'],\n",
    "            'origin_has_bus': origin['has_bus_station'],\n",
    "            'origin_has_metro': origin['has_metro_station'],\n",
    "            'origin_has_train': origin['has_train_station'],\n",
    "            'origin_has_taxi': origin['has_taxi_station']\n",
    "        }\n",
    "        \n",
    "        batch_rows = []\n",
    "        for j in range(n_points):\n",
    "            if i == j:\n",
    "                continue\n",
    "            dest = delegations_df.iloc[j]\n",
    "            dest_features = {\n",
    "                'dest_lat': dest['Latitude'],\n",
    "                'dest_lon': dest['Longitude'],\n",
    "                'dest_accessibility': dest['accessibility_score'],\n",
    "                'dest_tourism': dest['tourism_score'],\n",
    "                'dest_landscape': dest['landscape_beauty_score'],\n",
    "                'dest_cultural': dest['cultural_interest_score'],\n",
    "                'dest_cluster': dest['cluster_id'],\n",
    "                'dest_zone_type': dest['zone_type_encoded'],\n",
    "                'dest_governorate': dest['Governorate_encoded'],\n",
    "                'dest_has_bus': dest['has_bus_station'],\n",
    "                'dest_has_metro': dest['has_metro_station'],\n",
    "                'dest_has_train': dest['has_train_station'],\n",
    "                'dest_has_taxi': dest['has_taxi_station']\n",
    "            }\n",
    "            trip_features = {\n",
    "                'distance_km': distance_matrix[i, j],\n",
    "                'same_governorate': int(origin['Governorate'] == dest['Governorate']),\n",
    "                'same_cluster': int(origin['cluster_id'] == dest['cluster_id']),\n",
    "                'tourism_diff': abs(origin['tourism_score'] - dest['tourism_score']),\n",
    "                'accessibility_diff': abs(origin['accessibility_score'] - dest['accessibility_score'])\n",
    "            }\n",
    "            row = {**origin_features, **dest_features, **trip_features}\n",
    "            \n",
    "            for mode, times in travel_times.items():\n",
    "                row[f\"time_{mode}\"] = times[i, j] if np.isfinite(times[i, j]) else None\n",
    "            for car_type, times in car_travel_times.items():\n",
    "                row[f\"time_{car_type}\"] = times[i, j] if np.isfinite(times[i, j]) else None\n",
    "            \n",
    "            writer.writerow(row)\n",
    "        \n",
    "        # Break pour batch_size\n",
    "        if (i - start_i + 1) % batch_size == 0:\n",
    "            print(f\"✅ Batch terminé jusqu'à i={i}. Vous pouvez reprendre à i={i+1} plus tard.\")\n",
    "            break\n",
    "\n",
    "    f.close()\n",
    "    print(\"✅ Batch ML écrit dans\", output_csv)"
   ]
  },
  {
   "cell_type": "code",
   "execution_count": 39,
   "id": "53118ad8",
   "metadata": {},
   "outputs": [
    {
     "name": "stdout",
     "output_type": "stream",
     "text": [
      "Traitement du batch 0 à 99\n",
      "Création du dataset ML en batch à partir de i=0...\n"
     ]
    },
    {
     "name": "stderr",
     "output_type": "stream",
     "text": [
      "  2%|▏         | 99/4788 [01:50<1:27:10,  1.12s/it]\n"
     ]
    },
    {
     "name": "stdout",
     "output_type": "stream",
     "text": [
      "✅ Batch terminé jusqu'à i=99. Vous pouvez reprendre à i=100 plus tard.\n",
      "✅ Batch ML écrit dans ../data/processed/ml_dataset.csv\n",
      "Traitement du batch 100 à 199\n",
      "Création du dataset ML en batch à partir de i=100...\n"
     ]
    },
    {
     "name": "stderr",
     "output_type": "stream",
     "text": [
      "  2%|▏         | 99/4688 [01:52<1:26:32,  1.13s/it]\n"
     ]
    },
    {
     "name": "stdout",
     "output_type": "stream",
     "text": [
      "✅ Batch terminé jusqu'à i=199. Vous pouvez reprendre à i=200 plus tard.\n",
      "✅ Batch ML écrit dans ../data/processed/ml_dataset.csv\n",
      "Traitement du batch 200 à 299\n",
      "Création du dataset ML en batch à partir de i=200...\n"
     ]
    },
    {
     "name": "stderr",
     "output_type": "stream",
     "text": [
      "  2%|▏         | 99/4588 [01:48<1:22:08,  1.10s/it]\n"
     ]
    },
    {
     "name": "stdout",
     "output_type": "stream",
     "text": [
      "✅ Batch terminé jusqu'à i=299. Vous pouvez reprendre à i=300 plus tard.\n",
      "✅ Batch ML écrit dans ../data/processed/ml_dataset.csv\n",
      "Traitement du batch 300 à 399\n",
      "Création du dataset ML en batch à partir de i=300...\n"
     ]
    },
    {
     "name": "stderr",
     "output_type": "stream",
     "text": [
      "  2%|▏         | 99/4488 [01:44<1:17:24,  1.06s/it]\n"
     ]
    },
    {
     "name": "stdout",
     "output_type": "stream",
     "text": [
      "✅ Batch terminé jusqu'à i=399. Vous pouvez reprendre à i=400 plus tard.\n",
      "✅ Batch ML écrit dans ../data/processed/ml_dataset.csv\n",
      "Traitement du batch 400 à 499\n",
      "Création du dataset ML en batch à partir de i=400...\n"
     ]
    },
    {
     "name": "stderr",
     "output_type": "stream",
     "text": [
      "  2%|▏         | 99/4388 [01:47<1:17:42,  1.09s/it]\n"
     ]
    },
    {
     "name": "stdout",
     "output_type": "stream",
     "text": [
      "✅ Batch terminé jusqu'à i=499. Vous pouvez reprendre à i=500 plus tard.\n",
      "✅ Batch ML écrit dans ../data/processed/ml_dataset.csv\n",
      "Traitement du batch 500 à 599\n",
      "Création du dataset ML en batch à partir de i=500...\n"
     ]
    },
    {
     "name": "stderr",
     "output_type": "stream",
     "text": [
      "  2%|▏         | 99/4288 [01:50<1:18:01,  1.12s/it]\n"
     ]
    },
    {
     "name": "stdout",
     "output_type": "stream",
     "text": [
      "✅ Batch terminé jusqu'à i=599. Vous pouvez reprendre à i=600 plus tard.\n",
      "✅ Batch ML écrit dans ../data/processed/ml_dataset.csv\n",
      "Traitement du batch 600 à 699\n",
      "Création du dataset ML en batch à partir de i=600...\n"
     ]
    },
    {
     "name": "stderr",
     "output_type": "stream",
     "text": [
      "  2%|▏         | 99/4188 [01:57<1:20:58,  1.19s/it]\n"
     ]
    },
    {
     "name": "stdout",
     "output_type": "stream",
     "text": [
      "✅ Batch terminé jusqu'à i=699. Vous pouvez reprendre à i=700 plus tard.\n",
      "✅ Batch ML écrit dans ../data/processed/ml_dataset.csv\n",
      "Traitement du batch 700 à 799\n",
      "Création du dataset ML en batch à partir de i=700...\n"
     ]
    },
    {
     "name": "stderr",
     "output_type": "stream",
     "text": [
      "  2%|▏         | 99/4088 [01:52<1:15:24,  1.13s/it]\n"
     ]
    },
    {
     "name": "stdout",
     "output_type": "stream",
     "text": [
      "✅ Batch terminé jusqu'à i=799. Vous pouvez reprendre à i=800 plus tard.\n",
      "✅ Batch ML écrit dans ../data/processed/ml_dataset.csv\n",
      "Traitement du batch 800 à 899\n",
      "Création du dataset ML en batch à partir de i=800...\n"
     ]
    },
    {
     "name": "stderr",
     "output_type": "stream",
     "text": [
      "  2%|▏         | 99/3988 [01:45<1:09:21,  1.07s/it]\n"
     ]
    },
    {
     "name": "stdout",
     "output_type": "stream",
     "text": [
      "✅ Batch terminé jusqu'à i=899. Vous pouvez reprendre à i=900 plus tard.\n",
      "✅ Batch ML écrit dans ../data/processed/ml_dataset.csv\n",
      "Traitement du batch 900 à 999\n",
      "Création du dataset ML en batch à partir de i=900...\n"
     ]
    },
    {
     "name": "stderr",
     "output_type": "stream",
     "text": [
      "  3%|▎         | 99/3888 [01:47<1:08:35,  1.09s/it]\n"
     ]
    },
    {
     "name": "stdout",
     "output_type": "stream",
     "text": [
      "✅ Batch terminé jusqu'à i=999. Vous pouvez reprendre à i=1000 plus tard.\n",
      "✅ Batch ML écrit dans ../data/processed/ml_dataset.csv\n",
      "Traitement du batch 1000 à 1099\n",
      "Création du dataset ML en batch à partir de i=1000...\n"
     ]
    },
    {
     "name": "stderr",
     "output_type": "stream",
     "text": [
      "  3%|▎         | 99/3788 [01:46<1:05:52,  1.07s/it]\n"
     ]
    },
    {
     "name": "stdout",
     "output_type": "stream",
     "text": [
      "✅ Batch terminé jusqu'à i=1099. Vous pouvez reprendre à i=1100 plus tard.\n",
      "✅ Batch ML écrit dans ../data/processed/ml_dataset.csv\n",
      "Traitement du batch 1100 à 1199\n",
      "Création du dataset ML en batch à partir de i=1100...\n"
     ]
    },
    {
     "name": "stderr",
     "output_type": "stream",
     "text": [
      "  3%|▎         | 99/3688 [01:42<1:01:45,  1.03s/it]\n"
     ]
    },
    {
     "name": "stdout",
     "output_type": "stream",
     "text": [
      "✅ Batch terminé jusqu'à i=1199. Vous pouvez reprendre à i=1200 plus tard.\n",
      "✅ Batch ML écrit dans ../data/processed/ml_dataset.csv\n",
      "Traitement du batch 1200 à 1299\n",
      "Création du dataset ML en batch à partir de i=1200...\n"
     ]
    },
    {
     "name": "stderr",
     "output_type": "stream",
     "text": [
      "  3%|▎         | 99/3588 [01:41<59:44,  1.03s/it]  \n"
     ]
    },
    {
     "name": "stdout",
     "output_type": "stream",
     "text": [
      "✅ Batch terminé jusqu'à i=1299. Vous pouvez reprendre à i=1300 plus tard.\n",
      "✅ Batch ML écrit dans ../data/processed/ml_dataset.csv\n",
      "Traitement du batch 1300 à 1399\n",
      "Création du dataset ML en batch à partir de i=1300...\n"
     ]
    },
    {
     "name": "stderr",
     "output_type": "stream",
     "text": [
      "  3%|▎         | 99/3488 [01:40<57:16,  1.01s/it]  \n"
     ]
    },
    {
     "name": "stdout",
     "output_type": "stream",
     "text": [
      "✅ Batch terminé jusqu'à i=1399. Vous pouvez reprendre à i=1400 plus tard.\n",
      "✅ Batch ML écrit dans ../data/processed/ml_dataset.csv\n",
      "Traitement du batch 1400 à 1499\n",
      "Création du dataset ML en batch à partir de i=1400...\n"
     ]
    },
    {
     "name": "stderr",
     "output_type": "stream",
     "text": [
      "  3%|▎         | 99/3388 [01:43<57:09,  1.04s/it]  \n"
     ]
    },
    {
     "name": "stdout",
     "output_type": "stream",
     "text": [
      "✅ Batch terminé jusqu'à i=1499. Vous pouvez reprendre à i=1500 plus tard.\n",
      "✅ Batch ML écrit dans ../data/processed/ml_dataset.csv\n",
      "Traitement du batch 1500 à 1599\n",
      "Création du dataset ML en batch à partir de i=1500...\n"
     ]
    },
    {
     "name": "stderr",
     "output_type": "stream",
     "text": [
      "  3%|▎         | 99/3288 [01:45<56:23,  1.06s/it]  \n"
     ]
    },
    {
     "name": "stdout",
     "output_type": "stream",
     "text": [
      "✅ Batch terminé jusqu'à i=1599. Vous pouvez reprendre à i=1600 plus tard.\n",
      "✅ Batch ML écrit dans ../data/processed/ml_dataset.csv\n",
      "Traitement du batch 1600 à 1699\n",
      "Création du dataset ML en batch à partir de i=1600...\n"
     ]
    },
    {
     "name": "stderr",
     "output_type": "stream",
     "text": [
      "  3%|▎         | 99/3188 [01:41<52:52,  1.03s/it]  \n"
     ]
    },
    {
     "name": "stdout",
     "output_type": "stream",
     "text": [
      "✅ Batch terminé jusqu'à i=1699. Vous pouvez reprendre à i=1700 plus tard.\n",
      "✅ Batch ML écrit dans ../data/processed/ml_dataset.csv\n",
      "Traitement du batch 1700 à 1799\n",
      "Création du dataset ML en batch à partir de i=1700...\n"
     ]
    },
    {
     "name": "stderr",
     "output_type": "stream",
     "text": [
      "  3%|▎         | 99/3088 [01:45<53:20,  1.07s/it]  \n"
     ]
    },
    {
     "name": "stdout",
     "output_type": "stream",
     "text": [
      "✅ Batch terminé jusqu'à i=1799. Vous pouvez reprendre à i=1800 plus tard.\n",
      "✅ Batch ML écrit dans ../data/processed/ml_dataset.csv\n",
      "Traitement du batch 1800 à 1899\n",
      "Création du dataset ML en batch à partir de i=1800...\n"
     ]
    },
    {
     "name": "stderr",
     "output_type": "stream",
     "text": [
      "  3%|▎         | 99/2988 [01:45<51:07,  1.06s/it]  \n"
     ]
    },
    {
     "name": "stdout",
     "output_type": "stream",
     "text": [
      "✅ Batch terminé jusqu'à i=1899. Vous pouvez reprendre à i=1900 plus tard.\n",
      "✅ Batch ML écrit dans ../data/processed/ml_dataset.csv\n",
      "Traitement du batch 1900 à 1999\n",
      "Création du dataset ML en batch à partir de i=1900...\n"
     ]
    },
    {
     "name": "stderr",
     "output_type": "stream",
     "text": [
      "  3%|▎         | 99/2888 [01:43<48:43,  1.05s/it]\n"
     ]
    },
    {
     "name": "stdout",
     "output_type": "stream",
     "text": [
      "✅ Batch terminé jusqu'à i=1999. Vous pouvez reprendre à i=2000 plus tard.\n",
      "✅ Batch ML écrit dans ../data/processed/ml_dataset.csv\n",
      "Traitement du batch 2000 à 2099\n",
      "Création du dataset ML en batch à partir de i=2000...\n"
     ]
    },
    {
     "name": "stderr",
     "output_type": "stream",
     "text": [
      "  4%|▎         | 99/2788 [01:41<45:47,  1.02s/it] \n"
     ]
    },
    {
     "name": "stdout",
     "output_type": "stream",
     "text": [
      "✅ Batch terminé jusqu'à i=2099. Vous pouvez reprendre à i=2100 plus tard.\n",
      "✅ Batch ML écrit dans ../data/processed/ml_dataset.csv\n",
      "Traitement du batch 2100 à 2199\n",
      "Création du dataset ML en batch à partir de i=2100...\n"
     ]
    },
    {
     "name": "stderr",
     "output_type": "stream",
     "text": [
      "  4%|▎         | 99/2688 [01:48<47:09,  1.09s/it]  \n"
     ]
    },
    {
     "name": "stdout",
     "output_type": "stream",
     "text": [
      "✅ Batch terminé jusqu'à i=2199. Vous pouvez reprendre à i=2200 plus tard.\n",
      "✅ Batch ML écrit dans ../data/processed/ml_dataset.csv\n",
      "Traitement du batch 2200 à 2299\n",
      "Création du dataset ML en batch à partir de i=2200...\n"
     ]
    },
    {
     "name": "stderr",
     "output_type": "stream",
     "text": [
      "  4%|▍         | 99/2588 [01:46<44:47,  1.08s/it]\n"
     ]
    },
    {
     "name": "stdout",
     "output_type": "stream",
     "text": [
      "✅ Batch terminé jusqu'à i=2299. Vous pouvez reprendre à i=2300 plus tard.\n",
      "✅ Batch ML écrit dans ../data/processed/ml_dataset.csv\n",
      "Traitement du batch 2300 à 2399\n",
      "Création du dataset ML en batch à partir de i=2300...\n"
     ]
    },
    {
     "name": "stderr",
     "output_type": "stream",
     "text": [
      "  4%|▍         | 99/2488 [01:43<41:39,  1.05s/it] \n"
     ]
    },
    {
     "name": "stdout",
     "output_type": "stream",
     "text": [
      "✅ Batch terminé jusqu'à i=2399. Vous pouvez reprendre à i=2400 plus tard.\n",
      "✅ Batch ML écrit dans ../data/processed/ml_dataset.csv\n",
      "Traitement du batch 2400 à 2499\n",
      "Création du dataset ML en batch à partir de i=2400...\n"
     ]
    },
    {
     "name": "stderr",
     "output_type": "stream",
     "text": [
      "  4%|▍         | 99/2388 [01:43<39:56,  1.05s/it]\n"
     ]
    },
    {
     "name": "stdout",
     "output_type": "stream",
     "text": [
      "✅ Batch terminé jusqu'à i=2499. Vous pouvez reprendre à i=2500 plus tard.\n",
      "✅ Batch ML écrit dans ../data/processed/ml_dataset.csv\n",
      "Traitement du batch 2500 à 2599\n",
      "Création du dataset ML en batch à partir de i=2500...\n"
     ]
    },
    {
     "name": "stderr",
     "output_type": "stream",
     "text": [
      "  4%|▍         | 99/2288 [01:45<38:58,  1.07s/it]\n"
     ]
    },
    {
     "name": "stdout",
     "output_type": "stream",
     "text": [
      "✅ Batch terminé jusqu'à i=2599. Vous pouvez reprendre à i=2600 plus tard.\n",
      "✅ Batch ML écrit dans ../data/processed/ml_dataset.csv\n",
      "Traitement du batch 2600 à 2699\n",
      "Création du dataset ML en batch à partir de i=2600...\n"
     ]
    },
    {
     "name": "stderr",
     "output_type": "stream",
     "text": [
      "  5%|▍         | 99/2188 [01:40<35:19,  1.01s/it]\n"
     ]
    },
    {
     "name": "stdout",
     "output_type": "stream",
     "text": [
      "✅ Batch terminé jusqu'à i=2699. Vous pouvez reprendre à i=2700 plus tard.\n",
      "✅ Batch ML écrit dans ../data/processed/ml_dataset.csv\n",
      "Traitement du batch 2700 à 2799\n",
      "Création du dataset ML en batch à partir de i=2700...\n"
     ]
    },
    {
     "name": "stderr",
     "output_type": "stream",
     "text": [
      "  5%|▍         | 99/2088 [01:42<34:23,  1.04s/it]\n"
     ]
    },
    {
     "name": "stdout",
     "output_type": "stream",
     "text": [
      "✅ Batch terminé jusqu'à i=2799. Vous pouvez reprendre à i=2800 plus tard.\n",
      "✅ Batch ML écrit dans ../data/processed/ml_dataset.csv\n",
      "Traitement du batch 2800 à 2899\n",
      "Création du dataset ML en batch à partir de i=2800...\n"
     ]
    },
    {
     "name": "stderr",
     "output_type": "stream",
     "text": [
      "  5%|▍         | 99/1988 [01:44<33:12,  1.05s/it]\n"
     ]
    },
    {
     "name": "stdout",
     "output_type": "stream",
     "text": [
      "✅ Batch terminé jusqu'à i=2899. Vous pouvez reprendre à i=2900 plus tard.\n",
      "✅ Batch ML écrit dans ../data/processed/ml_dataset.csv\n",
      "Traitement du batch 2900 à 2999\n",
      "Création du dataset ML en batch à partir de i=2900...\n"
     ]
    },
    {
     "name": "stderr",
     "output_type": "stream",
     "text": [
      "  5%|▌         | 99/1888 [01:45<31:39,  1.06s/it]\n"
     ]
    },
    {
     "name": "stdout",
     "output_type": "stream",
     "text": [
      "✅ Batch terminé jusqu'à i=2999. Vous pouvez reprendre à i=3000 plus tard.\n",
      "✅ Batch ML écrit dans ../data/processed/ml_dataset.csv\n",
      "Traitement du batch 3000 à 3099\n",
      "Création du dataset ML en batch à partir de i=3000...\n"
     ]
    },
    {
     "name": "stderr",
     "output_type": "stream",
     "text": [
      "  6%|▌         | 99/1788 [01:44<29:46,  1.06s/it]\n"
     ]
    },
    {
     "name": "stdout",
     "output_type": "stream",
     "text": [
      "✅ Batch terminé jusqu'à i=3099. Vous pouvez reprendre à i=3100 plus tard.\n",
      "✅ Batch ML écrit dans ../data/processed/ml_dataset.csv\n",
      "Traitement du batch 3100 à 3199\n",
      "Création du dataset ML en batch à partir de i=3100...\n"
     ]
    },
    {
     "name": "stderr",
     "output_type": "stream",
     "text": [
      "  6%|▌         | 99/1688 [01:54<30:39,  1.16s/it]\n"
     ]
    },
    {
     "name": "stdout",
     "output_type": "stream",
     "text": [
      "✅ Batch terminé jusqu'à i=3199. Vous pouvez reprendre à i=3200 plus tard.\n",
      "✅ Batch ML écrit dans ../data/processed/ml_dataset.csv\n",
      "Traitement du batch 3200 à 3299\n",
      "Création du dataset ML en batch à partir de i=3200...\n"
     ]
    },
    {
     "name": "stderr",
     "output_type": "stream",
     "text": [
      "  6%|▌         | 99/1588 [01:52<28:18,  1.14s/it]\n"
     ]
    },
    {
     "name": "stdout",
     "output_type": "stream",
     "text": [
      "✅ Batch terminé jusqu'à i=3299. Vous pouvez reprendre à i=3300 plus tard.\n",
      "✅ Batch ML écrit dans ../data/processed/ml_dataset.csv\n",
      "Traitement du batch 3300 à 3399\n",
      "Création du dataset ML en batch à partir de i=3300...\n"
     ]
    },
    {
     "name": "stderr",
     "output_type": "stream",
     "text": [
      "  7%|▋         | 99/1488 [01:43<24:07,  1.04s/it]\n"
     ]
    },
    {
     "name": "stdout",
     "output_type": "stream",
     "text": [
      "✅ Batch terminé jusqu'à i=3399. Vous pouvez reprendre à i=3400 plus tard.\n",
      "✅ Batch ML écrit dans ../data/processed/ml_dataset.csv\n",
      "Traitement du batch 3400 à 3499\n",
      "Création du dataset ML en batch à partir de i=3400...\n"
     ]
    },
    {
     "name": "stderr",
     "output_type": "stream",
     "text": [
      "  7%|▋         | 99/1388 [01:43<22:23,  1.04s/it]\n"
     ]
    },
    {
     "name": "stdout",
     "output_type": "stream",
     "text": [
      "✅ Batch terminé jusqu'à i=3499. Vous pouvez reprendre à i=3500 plus tard.\n",
      "✅ Batch ML écrit dans ../data/processed/ml_dataset.csv\n",
      "Traitement du batch 3500 à 3599\n",
      "Création du dataset ML en batch à partir de i=3500...\n"
     ]
    },
    {
     "name": "stderr",
     "output_type": "stream",
     "text": [
      "  8%|▊         | 99/1288 [01:46<21:18,  1.08s/it]\n"
     ]
    },
    {
     "name": "stdout",
     "output_type": "stream",
     "text": [
      "✅ Batch terminé jusqu'à i=3599. Vous pouvez reprendre à i=3600 plus tard.\n",
      "✅ Batch ML écrit dans ../data/processed/ml_dataset.csv\n",
      "Traitement du batch 3600 à 3699\n",
      "Création du dataset ML en batch à partir de i=3600...\n"
     ]
    },
    {
     "name": "stderr",
     "output_type": "stream",
     "text": [
      "  8%|▊         | 99/1188 [01:43<19:01,  1.05s/it]\n"
     ]
    },
    {
     "name": "stdout",
     "output_type": "stream",
     "text": [
      "✅ Batch terminé jusqu'à i=3699. Vous pouvez reprendre à i=3700 plus tard.\n",
      "✅ Batch ML écrit dans ../data/processed/ml_dataset.csv\n",
      "Traitement du batch 3700 à 3799\n",
      "Création du dataset ML en batch à partir de i=3700...\n"
     ]
    },
    {
     "name": "stderr",
     "output_type": "stream",
     "text": [
      "  9%|▉         | 99/1088 [01:44<17:21,  1.05s/it]\n"
     ]
    },
    {
     "name": "stdout",
     "output_type": "stream",
     "text": [
      "✅ Batch terminé jusqu'à i=3799. Vous pouvez reprendre à i=3800 plus tard.\n",
      "✅ Batch ML écrit dans ../data/processed/ml_dataset.csv\n",
      "Traitement du batch 3800 à 3899\n",
      "Création du dataset ML en batch à partir de i=3800...\n"
     ]
    },
    {
     "name": "stderr",
     "output_type": "stream",
     "text": [
      " 10%|█         | 99/988 [01:46<15:52,  1.07s/it]\n"
     ]
    },
    {
     "name": "stdout",
     "output_type": "stream",
     "text": [
      "✅ Batch terminé jusqu'à i=3899. Vous pouvez reprendre à i=3900 plus tard.\n",
      "✅ Batch ML écrit dans ../data/processed/ml_dataset.csv\n",
      "Traitement du batch 3900 à 3999\n",
      "Création du dataset ML en batch à partir de i=3900...\n"
     ]
    },
    {
     "name": "stderr",
     "output_type": "stream",
     "text": [
      " 11%|█         | 99/888 [01:51<14:48,  1.13s/it]\n"
     ]
    },
    {
     "name": "stdout",
     "output_type": "stream",
     "text": [
      "✅ Batch terminé jusqu'à i=3999. Vous pouvez reprendre à i=4000 plus tard.\n",
      "✅ Batch ML écrit dans ../data/processed/ml_dataset.csv\n",
      "Traitement du batch 4000 à 4099\n",
      "Création du dataset ML en batch à partir de i=4000...\n"
     ]
    },
    {
     "name": "stderr",
     "output_type": "stream",
     "text": [
      " 13%|█▎        | 99/788 [01:52<13:06,  1.14s/it]\n"
     ]
    },
    {
     "name": "stdout",
     "output_type": "stream",
     "text": [
      "✅ Batch terminé jusqu'à i=4099. Vous pouvez reprendre à i=4100 plus tard.\n",
      "✅ Batch ML écrit dans ../data/processed/ml_dataset.csv\n",
      "Traitement du batch 4100 à 4199\n",
      "Création du dataset ML en batch à partir de i=4100...\n"
     ]
    },
    {
     "name": "stderr",
     "output_type": "stream",
     "text": [
      " 14%|█▍        | 99/688 [01:52<11:06,  1.13s/it]\n"
     ]
    },
    {
     "name": "stdout",
     "output_type": "stream",
     "text": [
      "✅ Batch terminé jusqu'à i=4199. Vous pouvez reprendre à i=4200 plus tard.\n",
      "✅ Batch ML écrit dans ../data/processed/ml_dataset.csv\n",
      "Traitement du batch 4200 à 4299\n",
      "Création du dataset ML en batch à partir de i=4200...\n"
     ]
    },
    {
     "name": "stderr",
     "output_type": "stream",
     "text": [
      " 17%|█▋        | 99/588 [01:52<09:15,  1.14s/it]\n"
     ]
    },
    {
     "name": "stdout",
     "output_type": "stream",
     "text": [
      "✅ Batch terminé jusqu'à i=4299. Vous pouvez reprendre à i=4300 plus tard.\n",
      "✅ Batch ML écrit dans ../data/processed/ml_dataset.csv\n",
      "Traitement du batch 4300 à 4399\n",
      "Création du dataset ML en batch à partir de i=4300...\n"
     ]
    },
    {
     "name": "stderr",
     "output_type": "stream",
     "text": [
      " 20%|██        | 99/488 [01:49<07:11,  1.11s/it]\n"
     ]
    },
    {
     "name": "stdout",
     "output_type": "stream",
     "text": [
      "✅ Batch terminé jusqu'à i=4399. Vous pouvez reprendre à i=4400 plus tard.\n",
      "✅ Batch ML écrit dans ../data/processed/ml_dataset.csv\n",
      "Traitement du batch 4400 à 4499\n",
      "Création du dataset ML en batch à partir de i=4400...\n"
     ]
    },
    {
     "name": "stderr",
     "output_type": "stream",
     "text": [
      " 26%|██▌       | 99/388 [01:48<05:15,  1.09s/it]\n"
     ]
    },
    {
     "name": "stdout",
     "output_type": "stream",
     "text": [
      "✅ Batch terminé jusqu'à i=4499. Vous pouvez reprendre à i=4500 plus tard.\n",
      "✅ Batch ML écrit dans ../data/processed/ml_dataset.csv\n",
      "Traitement du batch 4500 à 4599\n",
      "Création du dataset ML en batch à partir de i=4500...\n"
     ]
    },
    {
     "name": "stderr",
     "output_type": "stream",
     "text": [
      " 34%|███▍      | 99/288 [01:51<03:33,  1.13s/it]\n"
     ]
    },
    {
     "name": "stdout",
     "output_type": "stream",
     "text": [
      "✅ Batch terminé jusqu'à i=4599. Vous pouvez reprendre à i=4600 plus tard.\n",
      "✅ Batch ML écrit dans ../data/processed/ml_dataset.csv\n",
      "Traitement du batch 4600 à 4699\n",
      "Création du dataset ML en batch à partir de i=4600...\n"
     ]
    },
    {
     "name": "stderr",
     "output_type": "stream",
     "text": [
      " 53%|█████▎    | 99/188 [01:50<01:39,  1.12s/it]\n"
     ]
    },
    {
     "name": "stdout",
     "output_type": "stream",
     "text": [
      "✅ Batch terminé jusqu'à i=4699. Vous pouvez reprendre à i=4700 plus tard.\n",
      "✅ Batch ML écrit dans ../data/processed/ml_dataset.csv\n",
      "Traitement du batch 4700 à 4787\n",
      "Création du dataset ML en batch à partir de i=4700...\n"
     ]
    },
    {
     "name": "stderr",
     "output_type": "stream",
     "text": [
      "100%|██████████| 88/88 [01:36<00:00,  1.10s/it]"
     ]
    },
    {
     "name": "stdout",
     "output_type": "stream",
     "text": [
      "✅ Batch ML écrit dans ../data/processed/ml_dataset.csv\n",
      "✅ Dataset ML complet généré dans ../data/processed/ml_dataset.csv\n"
     ]
    },
    {
     "name": "stderr",
     "output_type": "stream",
     "text": [
      "\n"
     ]
    }
   ],
   "source": [
    "batch_size = 100  # Ajuste selon ta RAM\n",
    "start_i = 0\n",
    "output_csv = \"../data/processed/ml_dataset.csv\"\n",
    "\n",
    "# Supprime le CSV existant pour éviter l'accumulation\n",
    "import os\n",
    "if os.path.exists(output_csv):\n",
    "    os.remove(output_csv)\n",
    "\n",
    "# Boucle automatique pour traiter tous les points\n",
    "n_points = len(delegations_df)\n",
    "while start_i < n_points:\n",
    "    print(f\"Traitement du batch {start_i} à {min(start_i + batch_size, n_points) - 1}\")\n",
    "    \n",
    "    create_ml_dataset_batch(\n",
    "        delegations_df,\n",
    "        distance_matrix,\n",
    "        travel_times,\n",
    "        car_travel_times,\n",
    "        output_csv=output_csv,\n",
    "        start_i=start_i,\n",
    "        batch_size=batch_size\n",
    "    )\n",
    "    \n",
    "    start_i += batch_size\n",
    "\n",
    "print(f\"✅ Dataset ML complet généré dans {output_csv}\")\n"
   ]
  },
  {
   "cell_type": "code",
   "execution_count": 3,
   "id": "17db9594",
   "metadata": {},
   "outputs": [
    {
     "name": "stdout",
     "output_type": "stream",
     "text": [
      "Dataset chargé: 22920156 lignes\n"
     ]
    }
   ],
   "source": [
    "import pandas as pd\n",
    "\n",
    "ml_dataset = pd.read_csv(\"../data/processed/ml_dataset.csv\")\n",
    "print(f\"Dataset chargé: {len(ml_dataset)} lignes\")"
   ]
  },
  {
   "cell_type": "code",
   "execution_count": 4,
   "id": "b2baaaf8",
   "metadata": {},
   "outputs": [
    {
     "name": "stdout",
     "output_type": "stream",
     "text": [
      "3. ANALYSE ET NETTOYAGE DU DATASET\n",
      "------------------------------------------------------------\n"
     ]
    },
    {
     "name": "stdout",
     "output_type": "stream",
     "text": [
      "Valeurs manquantes par mode de transport:\n",
      "- time_metro: 22822950 (99.6%)\n",
      "- time_walking: 22746296 (99.2%)\n",
      "- time_train: 22543930 (98.4%)\n",
      "- time_bike: 22161016 (96.7%)\n",
      "- time_bus: 20276892 (88.5%)\n",
      "- time_taxi: 16839922 (73.5%)\n",
      "- time_car_city: 12509176 (54.6%)\n",
      "- time_economy_60hp: 12509176 (54.6%)\n",
      "- time_standard_90hp: 12509176 (54.6%)\n",
      "- time_mid_120hp: 12509176 (54.6%)\n",
      "- time_premium_150hp: 12509176 (54.6%)\n",
      "- time_sport_200hp: 12509176 (54.6%)\n",
      "- time_luxury_300hp: 12509176 (54.6%)\n",
      "- time_car_highway: 71320 (0.3%)\n",
      "\n",
      "Dataset nettoyé: 22848836 échantillons (supprimé: 71320)\n"
     ]
    }
   ],
   "source": [
    "# 3. ANALYSE ET NETTOYAGE DU DATASET\n",
    "print(\"3. ANALYSE ET NETTOYAGE DU DATASET\")\n",
    "print(\"-\" * 60)\n",
    "\n",
    "# Statistiques des valeurs manquantes\n",
    "missing_stats = ml_dataset.isnull().sum()\n",
    "missing_targets = missing_stats[missing_stats.index.str.startswith('time_')].sort_values(ascending=False)\n",
    "\n",
    "print(\"Valeurs manquantes par mode de transport:\")\n",
    "for mode, count in missing_targets.items():\n",
    "    percentage = (count / len(ml_dataset)) * 100\n",
    "    print(f\"- {mode}: {count} ({percentage:.1f}%)\")\n",
    "\n",
    "print()\n",
    "\n",
    "# Suppression des lignes sans aucun temps de trajet valide\n",
    "time_columns = [col for col in ml_dataset.columns if col.startswith('time_')]\n",
    "ml_dataset = ml_dataset.dropna(subset=['distance_km'])  # Distance est obligatoire\n",
    "initial_size = len(ml_dataset)\n",
    "\n",
    "# Garder seulement les lignes avec au moins un temps valide\n",
    "ml_dataset = ml_dataset[ml_dataset[time_columns].notna().any(axis=1)]\n",
    "print(f\"Dataset nettoyé: {len(ml_dataset)} échantillons (supprimé: {initial_size - len(ml_dataset)})\")"
   ]
  },
  {
   "cell_type": "code",
   "execution_count": 3,
   "id": "cb112688",
   "metadata": {},
   "outputs": [],
   "source": [
    "import pandas as pd\n",
    "import numpy as np\n",
    "\n",
    "# Scikit-learn\n",
    "from sklearn.linear_model import LinearRegression, Ridge\n",
    "from sklearn.ensemble import RandomForestRegressor, GradientBoostingRegressor\n",
    "from sklearn.svm import SVR\n",
    "\n",
    "# XGBoost\n",
    "import xgboost as xgb"
   ]
  },
  {
   "cell_type": "code",
   "execution_count": 4,
   "id": "a10bf139",
   "metadata": {},
   "outputs": [],
   "source": [
    "ml_dataset = pd.read_csv(\"../data/processed/ml_dataset.csv\")"
   ]
  },
  {
   "cell_type": "code",
   "execution_count": 5,
   "id": "9be5162d",
   "metadata": {},
   "outputs": [
    {
     "name": "stdout",
     "output_type": "stream",
     "text": [
      "\n",
      "4. PRÉPARATION DES MODÈLES ML\n",
      "------------------------------------------------------------\n",
      "Features d'entrée: 31\n",
      "Modèles à tester: ['Linear Regression', 'Ridge Regression', 'XGBoost (hist)']\n"
     ]
    }
   ],
   "source": [
    "# 4. PRÉPARATION DES MODÈLES ML\n",
    "print(\"\\n4. PRÉPARATION DES MODÈLES ML\")\n",
    "print(\"-\" * 60)\n",
    "\n",
    "# Définition des features d'entrée\n",
    "feature_columns = [col for col in ml_dataset.columns if not col.startswith('time_')]\n",
    "print(f\"Features d'entrée: {len(feature_columns)}\")\n",
    "\n",
    "# ⚡️ Modèles à tester (seulement ceux qui passent à l'échelle)\n",
    "models = {\n",
    "    'Linear Regression': LinearRegression(n_jobs=-1),\n",
    "    'Ridge Regression': Ridge(alpha=1.0),\n",
    "    'XGBoost (hist)': xgb.XGBRegressor(\n",
    "        n_estimators=200,\n",
    "        max_depth=8,\n",
    "        learning_rate=0.1,\n",
    "        tree_method=\"hist\",  # mode rapide et mémoire réduite\n",
    "        n_jobs=-1,\n",
    "        random_state=42\n",
    "    ),\n",
    "    # éventuellement LightGBM si installé :\n",
    "    # 'LightGBM': lgb.LGBMRegressor(\n",
    "    #     n_estimators=200, learning_rate=0.1,\n",
    "    #     num_leaves=64, random_state=42, n_jobs=-1\n",
    "    # )\n",
    "}\n",
    "\n",
    "print(f\"Modèles à tester: {list(models.keys())}\")\n"
   ]
  },
  {
   "cell_type": "code",
   "execution_count": 6,
   "id": "e6053feb",
   "metadata": {},
   "outputs": [
    {
     "name": "stdout",
     "output_type": "stream",
     "text": [
      "\n",
      "5. ENTRAÎNEMENT POUR VOITURE STANDARD (90HP)\n",
      "------------------------------------------------------------\n",
      "Échantillons valides pour time_standard_90hp: 10410980\n",
      "Entraînement et évaluation des modèles:\n"
     ]
    },
    {
     "name": "stderr",
     "output_type": "stream",
     "text": [
      " 33%|███▎      | 1/3 [00:16<00:32, 16.41s/it]"
     ]
    },
    {
     "name": "stdout",
     "output_type": "stream",
     "text": [
      "  Linear Regression: MAE=0.156h, RMSE=0.206h, R2=0.984\n"
     ]
    },
    {
     "name": "stderr",
     "output_type": "stream",
     "text": [
      " 67%|██████▋   | 2/3 [00:20<00:09,  9.30s/it]"
     ]
    },
    {
     "name": "stdout",
     "output_type": "stream",
     "text": [
      "  Ridge Regression: MAE=0.156h, RMSE=0.206h, R2=0.984\n"
     ]
    },
    {
     "name": "stderr",
     "output_type": "stream",
     "text": [
      "100%|██████████| 3/3 [03:12<00:00, 64.33s/it]"
     ]
    },
    {
     "name": "stdout",
     "output_type": "stream",
     "text": [
      "  XGBoost (hist): MAE=0.154h, RMSE=0.203h, R2=0.984\n",
      "\n",
      "Meilleur modèle: XGBoost (hist)\n",
      "Performance: MAE=0.154h, R2=0.984\n",
      "\n"
     ]
    },
    {
     "name": "stderr",
     "output_type": "stream",
     "text": [
      "\n"
     ]
    }
   ],
   "source": [
    "# 5. ENTRAÎNEMENT ET ÉVALUATION POUR VOITURE STANDARD\n",
    "from sklearn.model_selection import train_test_split\n",
    "from sklearn.preprocessing import StandardScaler\n",
    "from sklearn.metrics import mean_absolute_error, mean_squared_error, r2_score\n",
    "from sklearn.linear_model import LinearRegression, Ridge\n",
    "import xgboost as xgb\n",
    "from tqdm import tqdm\n",
    "import numpy as np\n",
    "\n",
    "print(\"\\n5. ENTRAÎNEMENT POUR VOITURE STANDARD (90HP)\")\n",
    "print(\"-\" * 60)\n",
    "\n",
    "target = 'time_standard_90hp'\n",
    "\n",
    "# Filtrage des données avec target valide\n",
    "train_data = ml_dataset[ml_dataset[target].notna()].copy()\n",
    "print(f\"Échantillons valides pour {target}: {len(train_data)}\")\n",
    "\n",
    "if len(train_data) > 100:\n",
    "    X = train_data[feature_columns]\n",
    "    y = train_data[target]\n",
    "\n",
    "    # Division train/test\n",
    "    X_train, X_test, y_train, y_test = train_test_split(\n",
    "        X, y, test_size=0.2, random_state=42\n",
    "    )\n",
    "\n",
    "    # Normalisation des features pour modèles linéaires\n",
    "    scaler = StandardScaler()\n",
    "    X_train_scaled = scaler.fit_transform(X_train)\n",
    "    X_test_scaled = scaler.transform(X_test)\n",
    "\n",
    "    # ⚡️ Modèles adaptés aux grands volumes\n",
    "    models = {\n",
    "        \"Linear Regression\": LinearRegression(n_jobs=-1),\n",
    "        \"Ridge Regression\": Ridge(alpha=1.0),\n",
    "        \"XGBoost (hist)\": xgb.XGBRegressor(\n",
    "            n_estimators=200,\n",
    "            max_depth=8,\n",
    "            learning_rate=0.1,\n",
    "            tree_method=\"hist\",    # super rapide & peu gourmand\n",
    "            n_jobs=-1,\n",
    "            random_state=42,\n",
    "        ),\n",
    "    }\n",
    "\n",
    "    results = {}\n",
    "    print(\"Entraînement et évaluation des modèles:\")\n",
    "\n",
    "    for name, model in tqdm(models.items()):\n",
    "        try:\n",
    "            if name.startswith(\"Linear\") or name.startswith(\"Ridge\"):\n",
    "                model.fit(X_train_scaled, y_train)\n",
    "                y_pred = model.predict(X_test_scaled)\n",
    "            else:  # XGBoost\n",
    "                model.fit(X_train, y_train)\n",
    "                y_pred = model.predict(X_test)\n",
    "\n",
    "            mae = mean_absolute_error(y_test, y_pred)\n",
    "            mse = mean_squared_error(y_test, y_pred)\n",
    "            rmse = np.sqrt(mse)\n",
    "            r2 = r2_score(y_test, y_pred)\n",
    "\n",
    "            results[name] = {\n",
    "                \"MAE\": mae,\n",
    "                \"RMSE\": rmse,\n",
    "                \"R2\": r2,\n",
    "                \"model\": model,\n",
    "            }\n",
    "\n",
    "            print(f\"  {name}: MAE={mae:.3f}h, RMSE={rmse:.3f}h, R2={r2:.3f}\")\n",
    "\n",
    "        except Exception as e:\n",
    "            print(f\"  {name}: Erreur - {e}\")\n",
    "\n",
    "    best_model_name = min(results.keys(), key=lambda x: results[x][\"MAE\"])\n",
    "    best_model = results[best_model_name]\n",
    "\n",
    "    print(f\"\\nMeilleur modèle: {best_model_name}\")\n",
    "    print(\n",
    "        f\"Performance: MAE={best_model['MAE']:.3f}h, R2={best_model['R2']:.3f}\"\n",
    "    )\n",
    "\n",
    "else:\n",
    "    print(f\"Pas assez de données pour l'entraînement ({len(train_data)} échantillons)\")\n",
    "    best_model_name = None\n",
    "\n",
    "print()\n"
   ]
  },
  {
   "cell_type": "code",
   "execution_count": 7,
   "id": "38b1f992",
   "metadata": {},
   "outputs": [
    {
     "name": "stdout",
     "output_type": "stream",
     "text": [
      "6. ANALYSE DES FEATURES IMPORTANTES\n",
      "------------------------------------------------------------\n",
      "Top 10 features importantes:\n",
      "               feature  importance\n",
      "26         distance_km    0.999070\n",
      "21    dest_governorate    0.000044\n",
      "8   origin_governorate    0.000044\n",
      "24      dest_has_train    0.000033\n",
      "17      dest_landscape    0.000032\n",
      "18       dest_cultural    0.000032\n",
      "29        tourism_diff    0.000031\n",
      "4     origin_landscape    0.000031\n",
      "5      origin_cultural    0.000031\n",
      "16        dest_tourism    0.000031\n"
     ]
    },
    {
     "data": {
      "image/png": "[encoded data removed]",
      "text/plain": [
       "<Figure size 1000x600 with 1 Axes>"
      ]
     },
     "metadata": {},
     "output_type": "display_data"
    },
    {
     "name": "stdout",
     "output_type": "stream",
     "text": [
      "\n"
     ]
    }
   ],
   "source": [
    "# 6. ANALYSE DES FEATURES IMPORTANTES\n",
    "if best_model_name and any(name in best_model_name for name in ['XGBoost', 'LightGBM']):\n",
    "    print(\"6. ANALYSE DES FEATURES IMPORTANTES\")\n",
    "    print(\"-\" * 60)\n",
    "    \n",
    "    model = results[best_model_name]['model']\n",
    "    \n",
    "    if hasattr(model, 'feature_importances_'):\n",
    "        importances = model.feature_importances_\n",
    "        feature_importance = pd.DataFrame({\n",
    "            'feature': feature_columns,\n",
    "            'importance': importances\n",
    "        }).sort_values('importance', ascending=False)\n",
    "        \n",
    "        print(\"Top 10 features importantes:\")\n",
    "        print(feature_importance.head(10))\n",
    "        \n",
    "        # Visualisation\n",
    "        import matplotlib.pyplot as plt\n",
    "        plt.figure(figsize=(10, 6))\n",
    "        top_features = feature_importance.head(15)\n",
    "        plt.barh(range(len(top_features)), top_features['importance'])\n",
    "        plt.yticks(range(len(top_features)), top_features['feature'])\n",
    "        plt.xlabel('Importance')\n",
    "        plt.title(f'Importance des Features - {best_model_name}')\n",
    "        plt.gca().invert_yaxis()\n",
    "        plt.tight_layout()\n",
    "        plt.show()\n",
    "\n",
    "print()"
   ]
  },
  {
   "cell_type": "code",
   "execution_count": 8,
   "id": "19f1fc0e",
   "metadata": {},
   "outputs": [
    {
     "name": "stdout",
     "output_type": "stream",
     "text": [
      "Colonnes de temps: 14\n"
     ]
    }
   ],
   "source": [
    "# construire la liste des colonnes \"temps\"\n",
    "time_columns = [col for col in ml_dataset.columns if col.startswith('time_')]\n",
    "print(f\"Colonnes de temps: {len(time_columns)}\")\n"
   ]
  },
  {
   "cell_type": "code",
   "execution_count": 9,
   "id": "1d5a0f89",
   "metadata": {},
   "outputs": [
    {
     "name": "stdout",
     "output_type": "stream",
     "text": [
      "Found 14 time columns\n",
      "Checking data availability...\n",
      "  time_walking: 173,860 samples\n",
      "  time_bike: 759,140 samples\n",
      "  time_bus: 2,643,264 samples\n",
      "  time_metro: 97,206 samples\n",
      "  time_train: 376,226 samples\n",
      "  time_taxi: 6,080,234 samples\n",
      "  time_car_city: 10,410,980 samples\n",
      "  time_car_highway: 22,848,836 samples\n",
      "  time_economy_60hp: 10,410,980 samples\n",
      "  time_standard_90hp: 10,410,980 samples\n",
      "  time_mid_120hp: 10,410,980 samples\n",
      "  time_premium_150hp: 10,410,980 samples\n",
      "  time_sport_200hp: 10,410,980 samples\n",
      "  time_luxury_300hp: 10,410,980 samples\n",
      "\n",
      "Will train 14 modes\n",
      "\n",
      "[1/14] Training time_walking...\n",
      "  Analyzing data...\n",
      "  Median: 0.57h, IQR: [0.31, 0.81]\n",
      "  Bounds: [0.01, 2.30] hours\n",
      "  Sampling training data (max 500,000)...\n",
      "  Training on 1,866 samples...\n",
      "    Early stopping at pass 10\n",
      "  MAE: 0.121h | R²: 0.754 | Median: 0.077h | <30min: 100.0%\n",
      "  Completed in 82.5s\n",
      "\n",
      "[2/14] Training time_bike...\n",
      "  Analyzing data...\n",
      "  Median: 0.69h, IQR: [0.35, 0.99]\n",
      "  Bounds: [0.01, 2.93] hours\n",
      "  Sampling training data (max 500,000)...\n",
      "  Training on 16,510 samples...\n",
      "    Early stopping at pass 7\n",
      "  MAE: 0.168h | R²: 0.765 | Median: 0.120h | <30min: 96.9%\n",
      "  Completed in 27.0s\n",
      "\n",
      "[3/14] Training time_bus...\n",
      "  Analyzing data...\n",
      "  Median: 3.36h, IQR: [2.06, 4.46]\n",
      "  Bounds: [0.01, 11.65] hours\n",
      "  Sampling training data (max 500,000)...\n",
      "  Training on 57,545 samples...\n",
      "    Early stopping at pass 7\n",
      "  MAE: 0.357h | R²: 0.904 | Median: 0.281h | <30min: 76.1%\n",
      "  Completed in 18.0s\n",
      "\n",
      "[4/14] Training time_metro...\n",
      "  Analyzing data...\n",
      "  Median: 1.10h, IQR: [0.67, 1.44]\n",
      "  Bounds: [0.01, 3.76] hours\n",
      "  Sampling training data (max 500,000)...\n",
      "  Training on 2,187 samples...\n",
      "    Early stopping at pass 5\n",
      "  MAE: 0.048h | R²: 0.984 | Median: 0.045h | <30min: 100.0%\n",
      "  Completed in 5.0s\n",
      "\n",
      "[5/14] Training time_train...\n",
      "  Analyzing data...\n",
      "  Median: 3.34h, IQR: [2.14, 4.58]\n",
      "  Bounds: [0.01, 11.90] hours\n",
      "  Sampling training data (max 500,000)...\n",
      "  Training on 8,281 samples...\n",
      "    Early stopping at pass 4\n",
      "  MAE: 0.221h | R²: 0.962 | Median: 0.184h | <30min: 93.2%\n",
      "  Completed in 7.5s\n",
      "\n",
      "[6/14] Training time_taxi...\n",
      "  Analyzing data...\n",
      "  Median: 2.26h, IQR: [1.39, 2.99]\n",
      "  Bounds: [0.01, 7.78] hours\n",
      "  Sampling training data (max 500,000)...\n",
      "  Training on 132,423 samples...\n",
      "  MAE: 0.225h | R²: 0.916 | Median: 0.180h | <30min: 91.1%\n",
      "  Completed in 10.5s\n",
      "\n",
      "[7/14] Training time_car_city...\n",
      "  Analyzing data...\n",
      "  Median: 3.60h, IQR: [2.25, 4.85]\n",
      "  Bounds: [0.01, 12.64] hours\n",
      "  Sampling training data (max 500,000)...\n",
      "  Training on 227,221 samples...\n",
      "    Early stopping at pass 5\n",
      "  MAE: 0.292h | R²: 0.944 | Median: 0.238h | <30min: 83.7%\n",
      "  Completed in 7.5s\n",
      "\n",
      "[8/14] Training time_car_highway...\n",
      "  Analyzing data...\n",
      "  Median: 2.07h, IQR: [1.24, 3.07]\n",
      "  Bounds: [0.01, 8.54] hours\n",
      "  Sampling training data (max 500,000)...\n",
      "  Training on 498,423 samples...\n",
      "    Early stopping at pass 6\n",
      "  MAE: 0.259h | R²: 0.918 | Median: 0.185h | <30min: 87.8%\n",
      "  Completed in 10.2s\n",
      "\n",
      "[9/14] Training time_economy_60hp...\n",
      "  Analyzing data...\n",
      "  Median: 4.23h, IQR: [2.64, 5.70]\n",
      "  Bounds: [0.01, 14.88] hours\n",
      "  Sampling training data (max 500,000)...\n",
      "  Training on 227,136 samples...\n",
      "    Early stopping at pass 4\n",
      "  MAE: 0.354h | R²: 0.942 | Median: 0.289h | <30min: 75.6%\n",
      "  Completed in 7.0s\n",
      "\n",
      "[10/14] Training time_standard_90hp...\n",
      "  Analyzing data...\n",
      "  Median: 3.60h, IQR: [2.25, 4.85]\n",
      "  Bounds: [0.01, 12.64] hours\n",
      "  Sampling training data (max 500,000)...\n",
      "  Training on 227,825 samples...\n",
      "    Early stopping at pass 9\n",
      "  MAE: 0.284h | R²: 0.949 | Median: 0.233h | <30min: 84.2%\n",
      "  Completed in 6.5s\n",
      "\n",
      "[11/14] Training time_mid_120hp...\n",
      "  Analyzing data...\n",
      "  Median: 3.27h, IQR: [2.04, 4.41]\n",
      "  Bounds: [0.01, 11.49] hours\n",
      "  Sampling training data (max 500,000)...\n",
      "  Training on 226,909 samples...\n",
      "    Early stopping at pass 9\n",
      "  MAE: 0.257h | R²: 0.949 | Median: 0.210h | <30min: 88.3%\n",
      "  Completed in 8.7s\n",
      "\n",
      "[12/14] Training time_premium_150hp...\n",
      "  Analyzing data...\n",
      "  Median: 3.00h, IQR: [1.87, 4.04]\n",
      "  Bounds: [0.01, 10.54] hours\n",
      "  Sampling training data (max 500,000)...\n",
      "  Training on 226,995 samples...\n",
      "    Early stopping at pass 6\n",
      "  MAE: 0.225h | R²: 0.953 | Median: 0.182h | <30min: 91.7%\n",
      "  Completed in 13.6s\n",
      "\n",
      "[13/14] Training time_sport_200hp...\n",
      "  Analyzing data...\n",
      "  Median: 2.57h, IQR: [1.60, 3.46]\n",
      "  Bounds: [0.01, 9.03] hours\n",
      "  Sampling training data (max 500,000)...\n",
      "  Training on 227,057 samples...\n",
      "    Early stopping at pass 8\n",
      "  MAE: 0.190h | R²: 0.955 | Median: 0.155h | <30min: 95.1%\n",
      "  Completed in 7.8s\n",
      "\n",
      "[14/14] Training time_luxury_300hp...\n",
      "  Analyzing data...\n",
      "  Median: 2.40h, IQR: [1.50, 3.23]\n",
      "  Bounds: [0.01, 8.43] hours\n",
      "  Sampling training data (max 500,000)...\n",
      "  Training on 227,459 samples...\n",
      "    Early stopping at pass 7\n",
      "  MAE: 0.174h | R²: 0.956 | Median: 0.141h | <30min: 96.8%\n",
      "  Completed in 11.4s\n",
      "\n",
      "=====================================================================================\n",
      "TRAINING SUMMARY\n",
      "=====================================================================================\n",
      "Mode                      MAE      R²       Median   <30min   Samples   \n",
      "-------------------------------------------------------------------------------------\n",
      "✓ time_walking              0.12h    0.754    0.08h  100.0%     1,679\n",
      "✓ time_bike                 0.17h    0.765    0.12h   96.9%    14,859\n",
      "✓ time_bus                  0.36h    0.904    0.28h   76.1%    51,790\n",
      "✓ time_metro                0.05h    0.984    0.04h  100.0%     1,968\n",
      "✓ time_train                0.22h    0.962    0.18h   93.2%     7,452\n",
      "✓ time_taxi                 0.22h    0.916    0.18h   91.1%   119,180\n",
      "✓ time_car_city             0.29h    0.944    0.24h   83.7%   204,498\n",
      "✓ time_car_highway          0.26h    0.918    0.18h   87.8%   448,580\n",
      "✓ time_economy_60hp         0.35h    0.942    0.29h   75.6%   204,422\n",
      "✓ time_standard_90hp        0.28h    0.949    0.23h   84.2%   205,042\n",
      "✓ time_mid_120hp            0.26h    0.949    0.21h   88.3%   204,218\n",
      "✓ time_premium_150hp        0.22h    0.953    0.18h   91.7%   204,295\n",
      "✓ time_sport_200hp          0.19h    0.955    0.16h   95.1%   204,351\n",
      "✓ time_luxury_300hp         0.17h    0.956    0.14h   96.8%   204,713\n",
      "=====================================================================================\n",
      "Models with R² > 0: 14/14\n",
      "Total training time: 223.2s\n",
      "\n",
      "Use predict_time_safe(mode, X_features) for predictions\n"
     ]
    }
   ],
   "source": [
    "from sklearn.linear_model import SGDRegressor\n",
    "from sklearn.preprocessing import StandardScaler\n",
    "from sklearn.metrics import mean_absolute_error, r2_score\n",
    "import numpy as np\n",
    "import pandas as pd\n",
    "import gc\n",
    "import time\n",
    "\n",
    "# Initialize storage\n",
    "transport_models = {}\n",
    "transport_results = {}\n",
    "\n",
    "# Get time columns\n",
    "time_columns = [col for col in ml_dataset.columns if col.startswith(\"time_\")]\n",
    "print(f\"Found {len(time_columns)} time columns\")\n",
    "\n",
    "# Quick check of data availability\n",
    "print(\"Checking data availability...\")\n",
    "modes_to_train = []\n",
    "\n",
    "for col in time_columns:\n",
    "    valid_count = ml_dataset[col].notna().sum()  # Fast count without chunks\n",
    "    if valid_count > 200:\n",
    "        modes_to_train.append(col)\n",
    "        print(f\"  {col}: {valid_count:,} samples\")\n",
    "\n",
    "print(f\"\\nWill train {len(modes_to_train)} modes\\n\")\n",
    "\n",
    "# Training parameters\n",
    "max_samples_per_mode = 500_000  # Limit training samples for speed\n",
    "batch_size = 50_000  # Larger batches for speed\n",
    "outlier_min, outlier_max = 0.01, 24\n",
    "max_log_value = 3.5  # log(e^3.5) ≈ 33 hours\n",
    "\n",
    "def get_data_stats(mode_data, mode_name):\n",
    "    \"\"\"Get robust statistics for a mode\"\"\"\n",
    "    valid = mode_data[(mode_data >= outlier_min) & (mode_data <= outlier_max)].dropna()\n",
    "    \n",
    "    if len(valid) < 100:\n",
    "        return None\n",
    "    \n",
    "    # Sample for stats if too large\n",
    "    if len(valid) > 50000:\n",
    "        valid = valid.sample(50000, random_state=42)\n",
    "    \n",
    "    median_val = valid.median()\n",
    "    q25, q75 = valid.quantile([0.25, 0.75])\n",
    "    iqr = q75 - q25\n",
    "    \n",
    "    # Adaptive bounds based on IQR\n",
    "    lower_bound = max(outlier_min, q25 - 3 * iqr)\n",
    "    upper_bound = min(outlier_max, q75 + 3 * iqr)\n",
    "    \n",
    "    return {\n",
    "        'median': median_val,\n",
    "        'q25': q25,\n",
    "        'q75': q75,\n",
    "        'lower_bound': lower_bound,\n",
    "        'upper_bound': upper_bound\n",
    "    }\n",
    "\n",
    "def sample_training_data(dataset, mode, feature_cols, stats, max_samples):\n",
    "    \"\"\"Efficiently sample training data\"\"\"\n",
    "    n_rows = len(dataset)\n",
    "    \n",
    "    # If dataset is small, use all data\n",
    "    if n_rows <= max_samples:\n",
    "        data = dataset[[mode] + feature_cols].copy()\n",
    "        valid_mask = (\n",
    "            data[mode].notna() &\n",
    "            (data[mode] >= stats['lower_bound']) &\n",
    "            (data[mode] <= stats['upper_bound'])\n",
    "        )\n",
    "        if valid_mask.sum() == 0:\n",
    "            return None, None\n",
    "        \n",
    "        X = data.loc[valid_mask, feature_cols].astype(np.float32).values\n",
    "        y = np.log1p(data.loc[valid_mask, mode].astype(np.float32).values)\n",
    "        y = np.clip(y, -2, max_log_value)\n",
    "        \n",
    "        return X, y\n",
    "    \n",
    "    # For large datasets, sample strategically\n",
    "    # Sample from different parts of dataset\n",
    "    sample_indices = []\n",
    "    samples_per_segment = max_samples // 10\n",
    "    \n",
    "    for i in range(10):\n",
    "        start = int(i * n_rows / 10)\n",
    "        end = int((i + 1) * n_rows / 10)\n",
    "        segment_size = end - start\n",
    "        \n",
    "        if segment_size > samples_per_segment:\n",
    "            indices = np.random.choice(\n",
    "                range(start, end),\n",
    "                samples_per_segment,\n",
    "                replace=False\n",
    "            )\n",
    "        else:\n",
    "            indices = range(start, end)\n",
    "        \n",
    "        sample_indices.extend(indices)\n",
    "    \n",
    "    # Get sampled data\n",
    "    data = dataset.iloc[sample_indices][[mode] + feature_cols].copy()\n",
    "    \n",
    "    valid_mask = (\n",
    "        data[mode].notna() &\n",
    "        (data[mode] >= stats['lower_bound']) &\n",
    "        (data[mode] <= stats['upper_bound'])\n",
    "    )\n",
    "    \n",
    "    if valid_mask.sum() == 0:\n",
    "        return None, None\n",
    "    \n",
    "    X = data.loc[valid_mask, feature_cols].astype(np.float32).values\n",
    "    y = np.log1p(data.loc[valid_mask, mode].astype(np.float32).values)\n",
    "    y = np.clip(y, -2, max_log_value)\n",
    "    \n",
    "    return X, y\n",
    "\n",
    "# Train each mode\n",
    "for mode_idx, mode in enumerate(modes_to_train):\n",
    "    print(f\"[{mode_idx+1}/{len(modes_to_train)}] Training {mode}...\")\n",
    "    start_time = time.time()\n",
    "    \n",
    "    try:\n",
    "        # Get data statistics\n",
    "        print(\"  Analyzing data...\")\n",
    "        stats = get_data_stats(ml_dataset[mode], mode)\n",
    "        \n",
    "        if stats is None:\n",
    "            print(f\"  Insufficient valid data\")\n",
    "            continue\n",
    "        \n",
    "        print(f\"  Median: {stats['median']:.2f}h, IQR: [{stats['q25']:.2f}, {stats['q75']:.2f}]\")\n",
    "        print(f\"  Bounds: [{stats['lower_bound']:.2f}, {stats['upper_bound']:.2f}] hours\")\n",
    "        \n",
    "        # Sample training data efficiently\n",
    "        print(f\"  Sampling training data (max {max_samples_per_mode:,})...\")\n",
    "        X_train, y_train = sample_training_data(\n",
    "            ml_dataset, mode, feature_columns, stats, max_samples_per_mode\n",
    "        )\n",
    "        \n",
    "        if X_train is None or len(X_train) < 100:\n",
    "            print(f\"  Insufficient training samples\")\n",
    "            continue\n",
    "        \n",
    "        print(f\"  Training on {len(X_train):,} samples...\")\n",
    "        \n",
    "        # Split into train and validation\n",
    "        n_train = int(len(X_train) * 0.9)\n",
    "        indices = np.random.permutation(len(X_train))\n",
    "        train_idx = indices[:n_train]\n",
    "        val_idx = indices[n_train:]\n",
    "        \n",
    "        X_tr, y_tr = X_train[train_idx], y_train[train_idx]\n",
    "        X_val, y_val = X_train[val_idx], y_train[val_idx]\n",
    "        \n",
    "        # Scale features\n",
    "        scaler = StandardScaler()\n",
    "        X_tr_scaled = scaler.fit_transform(X_tr)\n",
    "        X_val_scaled = scaler.transform(X_val)\n",
    "        \n",
    "        # Train model with mini-batch SGD\n",
    "        model = SGDRegressor(\n",
    "            max_iter=1,\n",
    "            tol=None,\n",
    "            learning_rate='invscaling',\n",
    "            eta0=0.01,\n",
    "            power_t=0.25,\n",
    "            random_state=42,\n",
    "            penalty='l2',\n",
    "            alpha=0.001,  # Stronger regularization\n",
    "            warm_start=True\n",
    "        )\n",
    "        \n",
    "        # Train in multiple passes with early stopping\n",
    "        best_val_score = -np.inf\n",
    "        patience = 3\n",
    "        patience_counter = 0\n",
    "        n_passes = 10\n",
    "        \n",
    "        mini_batch_size = min(10000, len(X_tr))\n",
    "        \n",
    "        for pass_num in range(n_passes):\n",
    "            # Shuffle and train\n",
    "            shuffle_idx = np.random.permutation(len(X_tr))\n",
    "            \n",
    "            for i in range(0, len(X_tr), mini_batch_size):\n",
    "                batch_idx = shuffle_idx[i:i + mini_batch_size]\n",
    "                model.partial_fit(X_tr_scaled[batch_idx], y_tr[batch_idx])\n",
    "            \n",
    "            # Validate\n",
    "            y_pred_log = model.predict(X_val_scaled)\n",
    "            y_pred_log = np.clip(y_pred_log, -2, max_log_value)\n",
    "            y_pred = np.expm1(y_pred_log)\n",
    "            y_val_real = np.expm1(y_val)\n",
    "            \n",
    "            val_r2 = r2_score(y_val_real, y_pred)\n",
    "            \n",
    "            if val_r2 > best_val_score:\n",
    "                best_val_score = val_r2\n",
    "                patience_counter = 0\n",
    "            else:\n",
    "                patience_counter += 1\n",
    "            \n",
    "            if patience_counter >= patience:\n",
    "                print(f\"    Early stopping at pass {pass_num + 1}\")\n",
    "                break\n",
    "        \n",
    "        # Final evaluation\n",
    "        y_pred_log = model.predict(X_val_scaled)\n",
    "        y_pred_log = np.clip(y_pred_log, -2, max_log_value)\n",
    "        y_pred = np.expm1(y_pred_log)\n",
    "        y_pred = np.clip(y_pred, 0, stats['upper_bound'] * 2)\n",
    "        \n",
    "        y_val_real = np.expm1(y_val)\n",
    "        \n",
    "        mae = mean_absolute_error(y_val_real, y_pred)\n",
    "        r2 = r2_score(y_val_real, y_pred)\n",
    "        median_error = np.median(np.abs(y_val_real - y_pred))\n",
    "        within_30min = np.mean(np.abs(y_val_real - y_pred) < 0.5) * 100\n",
    "        \n",
    "        elapsed = time.time() - start_time\n",
    "        \n",
    "        print(f\"  MAE: {mae:.3f}h | R²: {r2:.3f} | Median: {median_error:.3f}h | <30min: {within_30min:.1f}%\")\n",
    "        print(f\"  Completed in {elapsed:.1f}s\")\n",
    "        \n",
    "        # Store results\n",
    "        transport_models[mode] = {\n",
    "            \"model\": model,\n",
    "            \"scaler\": scaler,\n",
    "            \"bounds\": (stats['lower_bound'], stats['upper_bound']),\n",
    "            \"max_log\": max_log_value,\n",
    "            \"stats\": stats\n",
    "        }\n",
    "        \n",
    "        transport_results[mode] = {\n",
    "            \"MAE\": mae,\n",
    "            \"R2\": r2,\n",
    "            \"median_error\": median_error,\n",
    "            \"within_30min\": within_30min,\n",
    "            \"train_samples\": len(X_tr),\n",
    "            \"val_samples\": len(X_val),\n",
    "            \"data_median\": stats['median'],\n",
    "            \"training_time\": elapsed\n",
    "        }\n",
    "        \n",
    "        # Clean up\n",
    "        del X_train, y_train, X_tr, y_tr, X_val, y_val\n",
    "        del X_tr_scaled, X_val_scaled, y_pred, y_pred_log, y_val_real\n",
    "        gc.collect()\n",
    "        \n",
    "    except Exception as e:\n",
    "        print(f\"  ERROR: {str(e)}\")\n",
    "        import traceback\n",
    "        traceback.print_exc()\n",
    "        continue\n",
    "    \n",
    "    print()\n",
    "\n",
    "# Print summary\n",
    "print(\"=\" * 85)\n",
    "print(\"TRAINING SUMMARY\")\n",
    "print(\"=\" * 85)\n",
    "print(f\"{'Mode':<25} {'MAE':<8} {'R²':<8} {'Median':<8} {'<30min':<8} {'Samples':<10}\")\n",
    "print(\"-\" * 85)\n",
    "\n",
    "successful = 0\n",
    "for mode in modes_to_train:\n",
    "    if mode in transport_results:\n",
    "        r = transport_results[mode]\n",
    "        mae = r.get('MAE', 0)\n",
    "        r2 = r.get('R2', 0)\n",
    "        med = r.get('median_error', 0)\n",
    "        acc = r.get('within_30min', 0)\n",
    "        samp = r.get('train_samples', 0)\n",
    "        \n",
    "        status = \"✓\" if r2 > 0.3 else \"⚠\" if r2 > 0 else \"✗\"\n",
    "        \n",
    "        print(f\"{status} {mode:<23} {mae:6.2f}h  {r2:7.3f}  {med:6.2f}h  {acc:5.1f}%  {samp:8,}\")\n",
    "        \n",
    "        if r2 > 0:\n",
    "            successful += 1\n",
    "\n",
    "print(\"=\" * 85)\n",
    "print(f\"Models with R² > 0: {successful}/{len(modes_to_train)}\")\n",
    "print(f\"Total training time: {sum(r.get('training_time', 0) for r in transport_results.values()):.1f}s\")\n",
    "\n",
    "# Safe prediction function\n",
    "def predict_time_safe(mode, X_features):\n",
    "    \"\"\"Make safe predictions\"\"\"\n",
    "    if mode not in transport_models:\n",
    "        return None\n",
    "    \n",
    "    info = transport_models[mode]\n",
    "    \n",
    "    X_scaled = info['scaler'].transform(X_features)\n",
    "    y_pred_log = info['model'].predict(X_scaled)\n",
    "    y_pred_log = np.clip(y_pred_log, -2, info['max_log'])\n",
    "    y_pred = np.expm1(y_pred_log)\n",
    "    \n",
    "    lower, upper = info['bounds']\n",
    "    y_pred = np.clip(y_pred, 0, upper * 2)\n",
    "    \n",
    "    return y_pred\n",
    "\n",
    "print(\"\\nUse predict_time_safe(mode, X_features) for predictions\")"
   ]
  },
  {
   "cell_type": "code",
   "execution_count": 10,
   "id": "9648929f",
   "metadata": {},
   "outputs": [
    {
     "name": "stdout",
     "output_type": "stream",
     "text": [
      "\n",
      "8. FONCTION DE PRÉDICTION UNIVERSELLE\n",
      "------------------------------------------------------------\n",
      "Test de la fonction de prédiction:\n",
      "  bus: 1.36h (confiance: 0.90)\n",
      "  car (90HP): 1.07h (confiance: 0.95)\n",
      "  car (150HP): 0.88h (confiance: 0.95)\n",
      "\n"
     ]
    }
   ],
   "source": [
    "# 8. FONCTION DE PRÉDICTION UNIVERSELLE\n",
    "print(\"\\n8. FONCTION DE PRÉDICTION UNIVERSELLE\")\n",
    "print(\"-\" * 60)\n",
    "\n",
    "def predict_travel_time(origin_features, dest_features, transport_mode, car_horsepower=90):\n",
    "    \"\"\"\n",
    "    Prédit le temps de trajet entre deux points\n",
    "\n",
    "    Args:\n",
    "        origin_features: dict avec les caractéristiques de l'origine\n",
    "        dest_features: dict avec les caractéristiques de la destination  \n",
    "        transport_mode: str, mode de transport\n",
    "        car_horsepower: int, puissance pour les voitures\n",
    "\n",
    "    Returns:\n",
    "        dict avec prédiction et informations\n",
    "    \"\"\"\n",
    "\n",
    "    # Mappage chevaux → type de voiture\n",
    "    hp_to_car_type = {\n",
    "        60: 'economy_60hp',\n",
    "        90: 'standard_90hp', \n",
    "        120: 'mid_120hp',\n",
    "        150: 'premium_150hp',\n",
    "        200: 'sport_200hp',\n",
    "        300: 'luxury_300hp'\n",
    "    }\n",
    "\n",
    "    # Déterminer le mode cible\n",
    "    if transport_mode == 'car':\n",
    "        closest_hp = min(hp_to_car_type.keys(), key=lambda x: abs(x - car_horsepower))\n",
    "        target_mode = f'time_{hp_to_car_type[closest_hp]}'\n",
    "    else:\n",
    "        target_mode = f'time_{transport_mode}'\n",
    "\n",
    "    # Vérifier si on a un modèle pour ce mode\n",
    "    if target_mode not in transport_models:\n",
    "        return {\n",
    "            'prediction_hours': None,\n",
    "            'error': f\"Aucun modèle disponible pour {transport_mode}\",\n",
    "            'confidence': 0\n",
    "        }\n",
    "\n",
    "    # Construire les features d'entrée (avec les bons noms)\n",
    "    input_features = {**origin_features, **dest_features}\n",
    "\n",
    "    # Caractéristiques dérivées\n",
    "    input_features['same_governorate'] = int(\n",
    "        origin_features.get('origin_governorate') == dest_features.get('dest_governorate')\n",
    "    )\n",
    "    input_features['tourism_diff'] = abs(\n",
    "        origin_features.get('origin_tourism', 5) - dest_features.get('dest_tourism', 5)\n",
    "    )\n",
    "    input_features['accessibility_diff'] = abs(\n",
    "        origin_features.get('origin_accessibility', 5) - dest_features.get('dest_accessibility', 5)\n",
    "    )\n",
    "\n",
    "    try:\n",
    "        # DataFrame d'une seule ligne\n",
    "        input_df = pd.DataFrame([input_features])\n",
    "\n",
    "        # Ajouter les colonnes manquantes\n",
    "        for col in feature_columns:\n",
    "            if col not in input_df.columns:\n",
    "                input_df[col] = 0\n",
    "\n",
    "        # Réorganiser les colonnes et convertir en numpy array (pas DataFrame)\n",
    "        input_array = input_df[feature_columns].astype(np.float32).values\n",
    "\n",
    "        # Prédiction en utilisant la fonction sécurisée\n",
    "        prediction = predict_time_safe(target_mode, input_array)\n",
    "        \n",
    "        if prediction is None:\n",
    "            return {\n",
    "                'prediction_hours': None,\n",
    "                'error': f'Échec de la prédiction pour {target_mode}',\n",
    "                'confidence': 0\n",
    "            }\n",
    "        \n",
    "        prediction_hours = float(prediction[0])  # Extraire la valeur scalaire\n",
    "\n",
    "        # Confiance basée sur le R² du modèle\n",
    "        confidence = transport_results.get(target_mode, {}).get('R2', 0)\n",
    "        confidence = float(max(0, min(1, confidence)))  # Limiter entre 0 et 1\n",
    "\n",
    "        return {\n",
    "            'prediction_hours': prediction_hours,\n",
    "            'error': None,\n",
    "            'confidence': confidence,\n",
    "            'model_used': target_mode\n",
    "        }\n",
    "\n",
    "    except Exception as e:\n",
    "        return {\n",
    "            'prediction_hours': None,\n",
    "            'error': f'Erreur de prédiction: {e}',\n",
    "            'confidence': 0\n",
    "        }\n",
    "\n",
    "# Test de la fonction de prédiction\n",
    "print(\"Test de la fonction de prédiction:\")\n",
    "\n",
    "test_origin = {\n",
    "    'origin_lat': 36.8, 'origin_lon': 10.2, 'origin_accessibility': 7,\n",
    "    'origin_tourism': 6, 'origin_governorate': 1, 'distance_km': 25\n",
    "}\n",
    "\n",
    "test_dest = {\n",
    "    'dest_lat': 36.9, 'dest_lon': 10.3, 'dest_accessibility': 8,\n",
    "    'dest_tourism': 7, 'dest_governorate': 1\n",
    "}\n",
    "\n",
    "for transport_mode in ['bus', 'car']:\n",
    "    if transport_mode == 'car':\n",
    "        for hp in [90, 150]:\n",
    "            result = predict_travel_time(test_origin, test_dest, transport_mode, hp)\n",
    "            if result['prediction_hours'] is not None:\n",
    "                print(f\"  {transport_mode} ({hp}HP): {result['prediction_hours']:.2f}h (confiance: {result['confidence']:.2f})\")\n",
    "            else:\n",
    "                print(f\"  {transport_mode} ({hp}HP): {result['error']}\")\n",
    "    else:\n",
    "        result = predict_travel_time(test_origin, test_dest, transport_mode)\n",
    "        if result['prediction_hours'] is not None:\n",
    "            print(f\"  {transport_mode}: {result['prediction_hours']:.2f}h (confiance: {result['confidence']:.2f})\")\n",
    "        else:\n",
    "            print(f\"  {transport_mode}: {result['error']}\")\n",
    "\n",
    "print()"
   ]
  },
  {
   "cell_type": "code",
   "execution_count": 11,
   "id": "c0489db1",
   "metadata": {},
   "outputs": [
    {
     "name": "stdout",
     "output_type": "stream",
     "text": [
      "9. SYSTÈME DE RECOMMANDATION DE ROUTES\n",
      "------------------------------------------------------------\n",
      "Test du système de recommandation:\n",
      "Recommandations (triées par pertinence):\n",
      "  1. Voiture 150HP: 0.9h, 14.0DT, confort 8.2/10 (score: 0.869)\n",
      "  2. Voiture 90HP: 1.1h, 8.8DT, confort 7.0/10 (score: 0.841)\n",
      "  3. Bus: 1.4h, 3.8DT, confort 6.0/10 (score: 0.814)\n",
      "  4. Taxi: 0.9h, 37.5DT, confort 8.0/10 (score: 0.790)\n",
      "\n"
     ]
    }
   ],
   "source": [
    "# 9. SYSTÈME DE RECOMMANDATION DE ROUTES\n",
    "print(\"9. SYSTÈME DE RECOMMANDATION DE ROUTES\")\n",
    "print(\"-\" * 60)\n",
    "\n",
    "def recommend_optimal_route(origin_features, dest_features, preferences=None):\n",
    "    \"\"\"\n",
    "    Recommande la meilleure option de transport selon les préférences\n",
    "    \n",
    "    Args:\n",
    "        origin_features: dict, caractéristiques origine\n",
    "        dest_features: dict, caractéristiques destination\n",
    "        preferences: dict, préférences utilisateur\n",
    "        \n",
    "    Returns:\n",
    "        list, options triées par pertinence\n",
    "    \"\"\"\n",
    "    \n",
    "    if preferences is None:\n",
    "        preferences = {'time': 0.4, 'cost': 0.3, 'comfort': 0.3}\n",
    "    \n",
    "    # Modes à évaluer\n",
    "    modes_to_evaluate = [\n",
    "        ('bus', None),\n",
    "        ('car', 90),\n",
    "        ('car', 150),\n",
    "        ('taxi', None)\n",
    "    ]\n",
    "    \n",
    "    recommendations = []\n",
    "    \n",
    "    for mode, hp in modes_to_evaluate:\n",
    "        # Prédiction du temps\n",
    "        if mode == 'car':\n",
    "            result = predict_travel_time(origin_features, dest_features, mode, hp)\n",
    "            display_name = f\"Voiture {hp}HP\"\n",
    "        else:\n",
    "            result = predict_travel_time(origin_features, dest_features, mode)\n",
    "            display_name = mode.title()\n",
    "        \n",
    "        if result['prediction_hours'] and result['prediction_hours'] > 0:\n",
    "            time_hours = result['prediction_hours']\n",
    "            \n",
    "            # Estimation des coûts (simplifié)\n",
    "            distance_km = origin_features.get('distance_km', 20)\n",
    "            \n",
    "            cost_estimates = {\n",
    "                'bus': distance_km * 0.15,\n",
    "                'taxi': distance_km * 1.5,\n",
    "                'car': distance_km * 0.35\n",
    "            }\n",
    "            \n",
    "            base_cost = cost_estimates.get(mode, 10)\n",
    "            if mode == 'car' and hp:\n",
    "                cost_factor = 1 + (hp - 90) * 0.01  # Plus de chevaux = plus cher\n",
    "                estimated_cost = base_cost * cost_factor\n",
    "            else:\n",
    "                estimated_cost = base_cost\n",
    "            \n",
    "            # Score de confort (simplifié)\n",
    "            comfort_scores = {\n",
    "                'bus': 6,\n",
    "                'taxi': 8,\n",
    "                'car': 7 + (hp - 90) * 0.02 if hp else 7\n",
    "            }\n",
    "            \n",
    "            comfort = comfort_scores.get(mode, 5)\n",
    "            if mode == 'car' and hp:\n",
    "                comfort = min(10, 7 + (hp - 90) * 0.02)\n",
    "            \n",
    "            # Score composite\n",
    "            time_score = max(0, 1 - (time_hours / 10))  # Normalisation arbitraire\n",
    "            cost_score = max(0, 1 - (estimated_cost / 100))\n",
    "            comfort_score = comfort / 10\n",
    "            \n",
    "            composite_score = (\n",
    "                preferences.get('time', 0.4) * time_score +\n",
    "                preferences.get('cost', 0.3) * cost_score +\n",
    "                preferences.get('comfort', 0.3) * comfort_score\n",
    "            )\n",
    "            \n",
    "            recommendations.append({\n",
    "                'mode': display_name,\n",
    "                'time_hours': time_hours,\n",
    "                'cost_dt': estimated_cost,\n",
    "                'comfort_score': comfort,\n",
    "                'composite_score': composite_score,\n",
    "                'confidence': result['confidence']\n",
    "            })\n",
    "    \n",
    "    # Tri par score composite\n",
    "    recommendations.sort(key=lambda x: x['composite_score'], reverse=True)\n",
    "    \n",
    "    return recommendations\n",
    "\n",
    "# Test du système de recommandation\n",
    "print(\"Test du système de recommandation:\")\n",
    "recommendations = recommend_optimal_route(test_origin, test_dest)\n",
    "\n",
    "print(\"Recommandations (triées par pertinence):\")\n",
    "for i, rec in enumerate(recommendations, 1):\n",
    "    print(f\"  {i}. {rec['mode']}: {rec['time_hours']:.1f}h, {rec['cost_dt']:.1f}DT, \"\n",
    "          f\"confort {rec['comfort_score']:.1f}/10 (score: {rec['composite_score']:.3f})\")\n",
    "\n",
    "print()"
   ]
  },
  {
   "cell_type": "code",
   "execution_count": 12,
   "id": "95c4679b",
   "metadata": {},
   "outputs": [
    {
     "name": "stdout",
     "output_type": "stream",
     "text": [
      "10. SAUVEGARDE DES MODÈLES ENTRAÎNÉS\n",
      "------------------------------------------------------------\n"
     ]
    },
    {
     "name": "stdout",
     "output_type": "stream",
     "text": [
      "✓ Modèles sauvegardés: 'trained_models.pkl'\n",
      "  - 14 modèles de transport\n",
      "  - 31 features\n",
      "  - Résultats de performance inclus\n"
     ]
    }
   ],
   "source": [
    "import pickle\n",
    "\n",
    "# 10. SAUVEGARDE DES MODÈLES\n",
    "print(\"10. SAUVEGARDE DES MODÈLES ENTRAÎNÉS\")\n",
    "print(\"-\" * 60)\n",
    "\n",
    "# Sauvegarde des modèles et fonctions\n",
    "models_to_save = {\n",
    "    'transport_models': transport_models,\n",
    "    'transport_results': transport_results,\n",
    "    'feature_columns': feature_columns,\n",
    "}\n",
    "\n",
    "try:\n",
    "    with open('../data/processed/trained_models.pkl', 'wb') as f:\n",
    "        pickle.dump(models_to_save, f)\n",
    "    \n",
    "    print(\"✓ Modèles sauvegardés: 'trained_models.pkl'\")\n",
    "    print(f\"  - {len(transport_models)} modèles de transport\")\n",
    "    print(f\"  - {len(feature_columns)} features\")\n",
    "    print(f\"  - Résultats de performance inclus\")\n",
    "    \n",
    "except Exception as e:\n",
    "    print(f\"✗ Erreur lors de la sauvegarde: {e}\")"
   ]
  },
  {
   "cell_type": "code",
   "execution_count": 13,
   "id": "d8510f45",
   "metadata": {},
   "outputs": [
    {
     "name": "stdout",
     "output_type": "stream",
     "text": [
      "\n",
      "11. VISUALISATION DES RÉSULTATS ML\n",
      "------------------------------------------------------------\n"
     ]
    },
    {
     "data": {
      "image/png": "[encoded data removed]",
      "text/plain": [
       "<Figure size 1500x1000 with 4 Axes>"
      ]
     },
     "metadata": {},
     "output_type": "display_data"
    }
   ],
   "source": [
    "import matplotlib.pyplot as plt\n",
    "\n",
    "# 11. VISUALISATION DES RÉSULTATS ML\n",
    "print(\"\\n11. VISUALISATION DES RÉSULTATS ML\")\n",
    "print(\"-\" * 60)\n",
    "\n",
    "if transport_results:\n",
    "    fig, axes = plt.subplots(2, 2, figsize=(15, 10))\n",
    "    fig.suptitle('Résultats des Modèles ML - ML-TuniMapAi', fontsize=16)\n",
    "\n",
    "    # 1. MAE par mode\n",
    "    modes = list(transport_results.keys())\n",
    "    maes = [transport_results[m]['MAE'] for m in modes]\n",
    "\n",
    "    axes[0, 0].bar(range(len(modes)), maes)\n",
    "    axes[0, 0].set_xticks(range(len(modes)))\n",
    "    axes[0, 0].set_xticklabels([m.replace('time_', '') for m in modes], rotation=45, ha='right')\n",
    "    axes[0, 0].set_title('Erreur Moyenne Absolue (MAE) par Mode')\n",
    "    axes[0, 0].set_ylabel('MAE (heures)')\n",
    "\n",
    "    # 2. R² par mode\n",
    "    r2s = [transport_results[m]['R2'] for m in modes]\n",
    "    axes[0, 1].bar(range(len(modes)), r2s)\n",
    "    axes[0, 1].set_xticks(range(len(modes)))\n",
    "    axes[0, 1].set_xticklabels([m.replace('time_', '') for m in modes], rotation=45, ha='right')\n",
    "    axes[0, 1].set_title('Coefficient de Détermination (R²) par Mode')\n",
    "    axes[0, 1].set_ylabel('R²')\n",
    "    axes[0, 1].axhline(y=0.8, color='red', linestyle='--', alpha=0.7, label='Seuil 0.8')\n",
    "    axes[0, 1].legend()\n",
    "\n",
    "    # 3. Médiane des erreurs par mode\n",
    "    medians = [transport_results[m]['median_error'] for m in modes]\n",
    "    axes[1, 0].bar(range(len(modes)), medians, color='orange')\n",
    "    axes[1, 0].set_xticks(range(len(modes)))\n",
    "    axes[1, 0].set_xticklabels([m.replace('time_', '') for m in modes], rotation=45, ha='right')\n",
    "    axes[1, 0].set_title('Erreur Médiane par Mode')\n",
    "    axes[1, 0].set_ylabel('Erreur Médiane (heures)')\n",
    "\n",
    "    # 4. Répartition du nombre d’échantillons par mode\n",
    "    mode_counts = [ml_dataset[m].notna().sum() for m in time_columns if m in ml_dataset.columns]\n",
    "    mode_names = [m.replace('time_', '') for m in time_columns if m in ml_dataset.columns]\n",
    "    axes[1, 1].pie(mode_counts, labels=mode_names, autopct='%1.1f%%')\n",
    "    axes[1, 1].set_title('Répartition des Données par Mode')\n",
    "\n",
    "    plt.tight_layout()\n",
    "    plt.savefig('../data/visualizations/ml_results.png', dpi=300, bbox_inches='tight')\n",
    "    plt.show()\n",
    "else:\n",
    "    print(\"Aucun résultat disponible dans transport_results\")"
   ]
  },
  {
   "cell_type": "code",
   "execution_count": 16,
   "id": "b85b9197",
   "metadata": {},
   "outputs": [
    {
     "name": "stdout",
     "output_type": "stream",
     "text": [
      "\n",
      "12. RÉSUMÉ DES EXPÉRIMENTATIONS ML\n",
      "------------------------------------------------------------\n",
      "\n",
      "RÉSUMÉ DES EXPÉRIMENTATIONS ML - ML-TuniMapAi:\n",
      "\n",
      "DATASET D'ENTRAÎNEMENT:\n",
      "✓ Échantillons totaux: 22920156\n",
      "✓ Features d'entrée: 31\n",
      "✓ Modes de transport: 14\n",
      "✓ Données valides par mode: Variable selon disponibilité\n",
      "\n",
      "MODÈLES TESTÉS:\n",
      "✓ Linear Regression\n",
      "✓ Ridge Regression\n",
      "✓ XGBoost (hist)\n",
      "\n",
      "MEILLEURE PERFORMANCE:\n",
      "- Modèle: XGBoost (hist)\n",
      "- MAE: 0.154h\n",
      "- R²: 0.984\n",
      "\n",
      "MODÈLES SPÉCIALISÉS:\n",
      "✓ 14 modèles entraînés pour différents modes\n",
      "✓ Fonction de prédiction universelle\n",
      "✓ Système de recommandation multi-critères\n",
      "\n",
      "FONCTIONNALITÉS DÉVELOPPÉES:\n",
      "✓ Prédiction temps de trajet selon mode et puissance voiture\n",
      "✓ Recommandations personnalisées selon préférences\n",
      "✓ Gestion de l'incertitude et scores de confiance\n",
      "✓ Support pour tous les types de véhicules (60HP à 300HP+)\n",
      "\n",
      "PERFORMANCE GLOBALE:\n",
      "- Modes avec meilleure prédiction: time_walking, time_bike, time_bus\n",
      "- Précision moyenne: 0.227h\n",
      "- Fiabilité: 0.918\n",
      "\n",
      "FICHIERS GÉNÉRÉS:\n",
      "✓ trained_models.pkl (modèles ML)\n",
      "✓ prediction_functions.py (fonctions de prédiction)\n",
      "✓ ml_results.png (visualisations des résultats)\n",
      "\n",
      "INTÉGRATION STREAMLIT:\n",
      "✓ Fonctions prêtes pour l'interface utilisateur\n",
      "✓ API de prédiction optimisée\n",
      "✓ Recommandations temps réel\n",
      "✓ Support multi-modal complet\n",
      "\n",
      "PROCHAINES ÉTAPES:\n",
      "1. Développement de l'interface Streamlit\n",
      "2. Intégration des routes touristiques\n",
      "3. Optimisation temps réel\n",
      "4. Validation avec données réelles OSM\n",
      "\n",
      "\n",
      "✓ Expérimentations ML terminées!\n",
      "✓ Résumé sauvegardé dans 'ml_experiments_summary.txt'\n",
      "✓ Modèles prêts pour l'intégration dans l'interface Streamlit\n",
      "✓ Passage aux fichiers .py de la structure du projet…\n"
     ]
    }
   ],
   "source": [
    "# 12. RÉSUMÉ FINAL\n",
    "print(\"\\n12. RÉSUMÉ DES EXPÉRIMENTATIONS ML\")\n",
    "print(\"-\" * 60)\n",
    "\n",
    "# Préparer les valeurs avant le f-string\n",
    "if 'best_model_name' in locals() and best_model_name:\n",
    "    best_model_name_val = best_model_name\n",
    "else:\n",
    "    best_model_name_val = \"Non déterminé\"\n",
    "\n",
    "if 'best_model' in locals():\n",
    "    best_mae = f\"{best_model['MAE']:.3f}h\"\n",
    "    best_r2 = f\"{best_model['R2']:.3f}\"\n",
    "else:\n",
    "    best_mae = \"N/A\"\n",
    "    best_r2 = \"N/A\"\n",
    "\n",
    "if transport_results:\n",
    "    top_modes = \", \".join(list(transport_results.keys())[:3])\n",
    "    avg_mae = f\"{np.mean([r['MAE'] for r in transport_results.values()]):.3f}h\"\n",
    "    avg_r2 = f\"{np.mean([r['R2'] for r in transport_results.values()]):.3f}\"\n",
    "else:\n",
    "    top_modes = \"À déterminer\"\n",
    "    avg_mae = \"N/A\"\n",
    "    avg_r2 = \"N/A\"\n",
    "\n",
    "summary = f\"\"\"\n",
    "RÉSUMÉ DES EXPÉRIMENTATIONS ML - ML-TuniMapAi:\n",
    "\n",
    "DATASET D'ENTRAÎNEMENT:\n",
    "✓ Échantillons totaux: {len(ml_dataset)}\n",
    "✓ Features d'entrée: {len(feature_columns)}\n",
    "✓ Modes de transport: {len(time_columns)}\n",
    "✓ Données valides par mode: Variable selon disponibilité\n",
    "\n",
    "MODÈLES TESTÉS:\n",
    "{chr(10).join([f\"✓ {name}\" for name in models.keys()])}\n",
    "\n",
    "MEILLEURE PERFORMANCE:\n",
    "- Modèle: {best_model_name_val}\n",
    "- MAE: {best_mae}\n",
    "- R²: {best_r2}\n",
    "\n",
    "MODÈLES SPÉCIALISÉS:\n",
    "✓ {len(transport_models)} modèles entraînés pour différents modes\n",
    "✓ Fonction de prédiction universelle\n",
    "✓ Système de recommandation multi-critères\n",
    "\n",
    "FONCTIONNALITÉS DÉVELOPPÉES:\n",
    "✓ Prédiction temps de trajet selon mode et puissance voiture\n",
    "✓ Recommandations personnalisées selon préférences\n",
    "✓ Gestion de l'incertitude et scores de confiance\n",
    "✓ Support pour tous les types de véhicules (60HP à 300HP+)\n",
    "\n",
    "PERFORMANCE GLOBALE:\n",
    "- Modes avec meilleure prédiction: {top_modes}\n",
    "- Précision moyenne: {avg_mae}\n",
    "- Fiabilité: {avg_r2}\n",
    "\n",
    "FICHIERS GÉNÉRÉS:\n",
    "✓ trained_models.pkl (modèles ML)\n",
    "✓ prediction_functions.py (fonctions de prédiction)\n",
    "✓ ml_results.png (visualisations des résultats)\n",
    "\n",
    "INTÉGRATION STREAMLIT:\n",
    "✓ Fonctions prêtes pour l'interface utilisateur\n",
    "✓ API de prédiction optimisée\n",
    "✓ Recommandations temps réel\n",
    "✓ Support multi-modal complet\n",
    "\n",
    "PROCHAINES ÉTAPES:\n",
    "1. Développement de l'interface Streamlit\n",
    "2. Intégration des routes touristiques\n",
    "3. Optimisation temps réel\n",
    "4. Validation avec données réelles OSM\n",
    "\"\"\"\n",
    "\n",
    "print(summary)\n",
    "\n",
    "# Sauvegarde du résumé\n",
    "with open('../data/processed/ml_experiments_summary.txt', 'w', encoding='utf-8') as f:\n",
    "    f.write(summary)\n",
    "\n",
    "print(\"\\n✓ Expérimentations ML terminées!\")\n",
    "print(\"✓ Résumé sauvegardé dans 'ml_experiments_summary.txt'\")\n",
    "print(\"✓ Modèles prêts pour l'intégration dans l'interface Streamlit\")\n",
    "print(\"✓ Passage aux fichiers .py de la structure du projet…\")\n"
   ]
  }
 ],
 "metadata": {
  "kernelspec": {
   "display_name": "Python 3",
   "language": "python",
   "name": "python3"
  },
  "language_info": {
   "codemirror_mode": {
    "name": "ipython",
    "version": 3
   },
   "file_extension": ".py",
   "mimetype": "text/x-python",
   "name": "python",
   "nbconvert_exporter": "python",
   "pygments_lexer": "ipython3",
   "version": "3.11.0"
  }
 },
 "nbformat": 4,
 "nbformat_minor": 5
}
